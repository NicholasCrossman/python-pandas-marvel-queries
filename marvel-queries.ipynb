{
 "cells": [
  {
   "cell_type": "markdown",
   "metadata": {},
   "source": [
    "# JUMPlus Python Project 2\n",
    "\n",
    "## Marvel Dataset Basic Operations\n",
    "\n",
    "## by Nicholas Crossman\n",
    "\n",
    "As before, we import `pandas` and load the data in from `characters_stats.csv`."
   ]
  },
  {
   "cell_type": "code",
   "execution_count": 2,
   "metadata": {},
   "outputs": [],
   "source": [
    "import pandas as pd\n",
    "\n",
    "data = pd.read_csv(\"characters_stats.csv\")"
   ]
  },
  {
   "cell_type": "markdown",
   "metadata": {},
   "source": [
    "Now that we've read the `.csv`, let's show the first 5 records and get the number of rows and columns."
   ]
  },
  {
   "cell_type": "code",
   "execution_count": 5,
   "metadata": {},
   "outputs": [
    {
     "data": {
      "text/html": [
       "<style  type=\"text/css\" >\n",
       "</style>  \n",
       "<table id=\"T_032e1548_5930_11ec_8d82_a434d9e97815\" > \n",
       "<thead>    <tr> \n",
       "        <th class=\"blank level0\" ></th> \n",
       "        <th class=\"col_heading level0 col0\" >Name</th> \n",
       "        <th class=\"col_heading level0 col1\" >Alignment</th> \n",
       "        <th class=\"col_heading level0 col2\" >Intelligence</th> \n",
       "        <th class=\"col_heading level0 col3\" >Strength</th> \n",
       "        <th class=\"col_heading level0 col4\" >Speed</th> \n",
       "        <th class=\"col_heading level0 col5\" >Durability</th> \n",
       "        <th class=\"col_heading level0 col6\" >Power</th> \n",
       "        <th class=\"col_heading level0 col7\" >Combat</th> \n",
       "        <th class=\"col_heading level0 col8\" >Total</th> \n",
       "    </tr></thead> \n",
       "<tbody>    <tr> \n",
       "        <th id=\"T_032e1548_5930_11ec_8d82_a434d9e97815level0_row0\" class=\"row_heading level0 row0\" >0</th> \n",
       "        <td id=\"T_032e1548_5930_11ec_8d82_a434d9e97815row0_col0\" class=\"data row0 col0\" >3-D Man</td> \n",
       "        <td id=\"T_032e1548_5930_11ec_8d82_a434d9e97815row0_col1\" class=\"data row0 col1\" >good</td> \n",
       "        <td id=\"T_032e1548_5930_11ec_8d82_a434d9e97815row0_col2\" class=\"data row0 col2\" >50</td> \n",
       "        <td id=\"T_032e1548_5930_11ec_8d82_a434d9e97815row0_col3\" class=\"data row0 col3\" >31</td> \n",
       "        <td id=\"T_032e1548_5930_11ec_8d82_a434d9e97815row0_col4\" class=\"data row0 col4\" >43</td> \n",
       "        <td id=\"T_032e1548_5930_11ec_8d82_a434d9e97815row0_col5\" class=\"data row0 col5\" >32</td> \n",
       "        <td id=\"T_032e1548_5930_11ec_8d82_a434d9e97815row0_col6\" class=\"data row0 col6\" >25</td> \n",
       "        <td id=\"T_032e1548_5930_11ec_8d82_a434d9e97815row0_col7\" class=\"data row0 col7\" >52</td> \n",
       "        <td id=\"T_032e1548_5930_11ec_8d82_a434d9e97815row0_col8\" class=\"data row0 col8\" >233</td> \n",
       "    </tr>    <tr> \n",
       "        <th id=\"T_032e1548_5930_11ec_8d82_a434d9e97815level0_row1\" class=\"row_heading level0 row1\" >1</th> \n",
       "        <td id=\"T_032e1548_5930_11ec_8d82_a434d9e97815row1_col0\" class=\"data row1 col0\" >A-Bomb</td> \n",
       "        <td id=\"T_032e1548_5930_11ec_8d82_a434d9e97815row1_col1\" class=\"data row1 col1\" >good</td> \n",
       "        <td id=\"T_032e1548_5930_11ec_8d82_a434d9e97815row1_col2\" class=\"data row1 col2\" >38</td> \n",
       "        <td id=\"T_032e1548_5930_11ec_8d82_a434d9e97815row1_col3\" class=\"data row1 col3\" >100</td> \n",
       "        <td id=\"T_032e1548_5930_11ec_8d82_a434d9e97815row1_col4\" class=\"data row1 col4\" >17</td> \n",
       "        <td id=\"T_032e1548_5930_11ec_8d82_a434d9e97815row1_col5\" class=\"data row1 col5\" >80</td> \n",
       "        <td id=\"T_032e1548_5930_11ec_8d82_a434d9e97815row1_col6\" class=\"data row1 col6\" >17</td> \n",
       "        <td id=\"T_032e1548_5930_11ec_8d82_a434d9e97815row1_col7\" class=\"data row1 col7\" >64</td> \n",
       "        <td id=\"T_032e1548_5930_11ec_8d82_a434d9e97815row1_col8\" class=\"data row1 col8\" >316</td> \n",
       "    </tr>    <tr> \n",
       "        <th id=\"T_032e1548_5930_11ec_8d82_a434d9e97815level0_row2\" class=\"row_heading level0 row2\" >2</th> \n",
       "        <td id=\"T_032e1548_5930_11ec_8d82_a434d9e97815row2_col0\" class=\"data row2 col0\" >Abe Sapien</td> \n",
       "        <td id=\"T_032e1548_5930_11ec_8d82_a434d9e97815row2_col1\" class=\"data row2 col1\" >good</td> \n",
       "        <td id=\"T_032e1548_5930_11ec_8d82_a434d9e97815row2_col2\" class=\"data row2 col2\" >88</td> \n",
       "        <td id=\"T_032e1548_5930_11ec_8d82_a434d9e97815row2_col3\" class=\"data row2 col3\" >14</td> \n",
       "        <td id=\"T_032e1548_5930_11ec_8d82_a434d9e97815row2_col4\" class=\"data row2 col4\" >35</td> \n",
       "        <td id=\"T_032e1548_5930_11ec_8d82_a434d9e97815row2_col5\" class=\"data row2 col5\" >42</td> \n",
       "        <td id=\"T_032e1548_5930_11ec_8d82_a434d9e97815row2_col6\" class=\"data row2 col6\" >35</td> \n",
       "        <td id=\"T_032e1548_5930_11ec_8d82_a434d9e97815row2_col7\" class=\"data row2 col7\" >85</td> \n",
       "        <td id=\"T_032e1548_5930_11ec_8d82_a434d9e97815row2_col8\" class=\"data row2 col8\" >299</td> \n",
       "    </tr>    <tr> \n",
       "        <th id=\"T_032e1548_5930_11ec_8d82_a434d9e97815level0_row3\" class=\"row_heading level0 row3\" >3</th> \n",
       "        <td id=\"T_032e1548_5930_11ec_8d82_a434d9e97815row3_col0\" class=\"data row3 col0\" >Abin Sur</td> \n",
       "        <td id=\"T_032e1548_5930_11ec_8d82_a434d9e97815row3_col1\" class=\"data row3 col1\" >good</td> \n",
       "        <td id=\"T_032e1548_5930_11ec_8d82_a434d9e97815row3_col2\" class=\"data row3 col2\" >50</td> \n",
       "        <td id=\"T_032e1548_5930_11ec_8d82_a434d9e97815row3_col3\" class=\"data row3 col3\" >90</td> \n",
       "        <td id=\"T_032e1548_5930_11ec_8d82_a434d9e97815row3_col4\" class=\"data row3 col4\" >53</td> \n",
       "        <td id=\"T_032e1548_5930_11ec_8d82_a434d9e97815row3_col5\" class=\"data row3 col5\" >64</td> \n",
       "        <td id=\"T_032e1548_5930_11ec_8d82_a434d9e97815row3_col6\" class=\"data row3 col6\" >84</td> \n",
       "        <td id=\"T_032e1548_5930_11ec_8d82_a434d9e97815row3_col7\" class=\"data row3 col7\" >65</td> \n",
       "        <td id=\"T_032e1548_5930_11ec_8d82_a434d9e97815row3_col8\" class=\"data row3 col8\" >406</td> \n",
       "    </tr>    <tr> \n",
       "        <th id=\"T_032e1548_5930_11ec_8d82_a434d9e97815level0_row4\" class=\"row_heading level0 row4\" >4</th> \n",
       "        <td id=\"T_032e1548_5930_11ec_8d82_a434d9e97815row4_col0\" class=\"data row4 col0\" >Abomination</td> \n",
       "        <td id=\"T_032e1548_5930_11ec_8d82_a434d9e97815row4_col1\" class=\"data row4 col1\" >bad</td> \n",
       "        <td id=\"T_032e1548_5930_11ec_8d82_a434d9e97815row4_col2\" class=\"data row4 col2\" >63</td> \n",
       "        <td id=\"T_032e1548_5930_11ec_8d82_a434d9e97815row4_col3\" class=\"data row4 col3\" >80</td> \n",
       "        <td id=\"T_032e1548_5930_11ec_8d82_a434d9e97815row4_col4\" class=\"data row4 col4\" >53</td> \n",
       "        <td id=\"T_032e1548_5930_11ec_8d82_a434d9e97815row4_col5\" class=\"data row4 col5\" >90</td> \n",
       "        <td id=\"T_032e1548_5930_11ec_8d82_a434d9e97815row4_col6\" class=\"data row4 col6\" >55</td> \n",
       "        <td id=\"T_032e1548_5930_11ec_8d82_a434d9e97815row4_col7\" class=\"data row4 col7\" >95</td> \n",
       "        <td id=\"T_032e1548_5930_11ec_8d82_a434d9e97815row4_col8\" class=\"data row4 col8\" >436</td> \n",
       "    </tr></tbody> \n",
       "</table> "
      ],
      "text/plain": [
       "<pandas.io.formats.style.Styler at 0x1c4f8e64ef0>"
      ]
     },
     "execution_count": 5,
     "metadata": {},
     "output_type": "execute_result"
    }
   ],
   "source": [
    "data.head().style"
   ]
  },
  {
   "cell_type": "code",
   "execution_count": 6,
   "metadata": {},
   "outputs": [
    {
     "name": "stdout",
     "output_type": "stream",
     "text": [
      "Rows: 611\n",
      "Columns: 9\n"
     ]
    }
   ],
   "source": [
    "info = data.shape\n",
    "rows = str(info[0])\n",
    "cols = str(info[1])\n",
    "print(\"Rows: \" + rows)\n",
    "print(\"Columns: \" + cols)"
   ]
  },
  {
   "cell_type": "markdown",
   "metadata": {},
   "source": [
    "The first 5 entries show `good` and `bad` as possible values for the `Alignment` variable, but we should check to make sure. \n",
    "\n",
    "The `value_counts()` method will show us what options are available."
   ]
  },
  {
   "cell_type": "code",
   "execution_count": 10,
   "metadata": {},
   "outputs": [
    {
     "name": "stdout",
     "output_type": "stream",
     "text": [
      "good       432\n",
      "bad        165\n",
      "neutral     11\n",
      "Name: Alignment, dtype: int64\n"
     ]
    }
   ],
   "source": [
    "alignments = data['Alignment'].value_counts()\n",
    "print(alignments)"
   ]
  },
  {
   "cell_type": "markdown",
   "metadata": {},
   "source": [
    "Here we can see there are three possible values: good, bad, and neutral."
   ]
  }
 ],
 "metadata": {
  "interpreter": {
   "hash": "63fd5069d213b44bf678585dea6b12cceca9941eaf7f819626cde1f2670de90d"
  },
  "kernelspec": {
   "display_name": "Python 3.9.1 64-bit",
   "language": "python",
   "name": "python3"
  },
  "language_info": {
   "codemirror_mode": {
    "name": "ipython",
    "version": 3
   },
   "file_extension": ".py",
   "mimetype": "text/x-python",
   "name": "python",
   "nbconvert_exporter": "python",
   "pygments_lexer": "ipython3",
   "version": "3.7.0"
  },
  "orig_nbformat": 4
 },
 "nbformat": 4,
 "nbformat_minor": 2
}
