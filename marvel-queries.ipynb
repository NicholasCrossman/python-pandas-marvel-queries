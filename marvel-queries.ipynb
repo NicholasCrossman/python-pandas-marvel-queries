{
 "cells": [
  {
   "cell_type": "markdown",
   "metadata": {},
   "source": [
    "# JUMPlus Python Project 2\n",
    "\n",
    "## Marvel Dataset Basic Operations\n",
    "\n",
    "## by Nicholas Crossman\n",
    "\n",
    "As before, we import `pandas` and load the data in from `characters_stats.csv`."
   ]
  },
  {
   "cell_type": "code",
   "execution_count": 3,
   "metadata": {},
   "outputs": [],
   "source": [
    "import pandas as pd\n",
    "\n",
    "data = pd.read_csv(\"characters_stats.csv\")"
   ]
  },
  {
   "cell_type": "markdown",
   "metadata": {},
   "source": [
    "Now that we've read the `.csv`, let's show the first 5 records and get the number of rows and columns."
   ]
  },
  {
   "cell_type": "code",
   "execution_count": 4,
   "metadata": {},
   "outputs": [
    {
     "data": {
      "text/html": [
       "<style  type=\"text/css\" >\n",
       "</style>  \n",
       "<table id=\"T_44b1ce7a_5c48_11ec_9e2c_a434d9e97815\" > \n",
       "<thead>    <tr> \n",
       "        <th class=\"blank level0\" ></th> \n",
       "        <th class=\"col_heading level0 col0\" >Name</th> \n",
       "        <th class=\"col_heading level0 col1\" >Alignment</th> \n",
       "        <th class=\"col_heading level0 col2\" >Intelligence</th> \n",
       "        <th class=\"col_heading level0 col3\" >Strength</th> \n",
       "        <th class=\"col_heading level0 col4\" >Speed</th> \n",
       "        <th class=\"col_heading level0 col5\" >Durability</th> \n",
       "        <th class=\"col_heading level0 col6\" >Power</th> \n",
       "        <th class=\"col_heading level0 col7\" >Combat</th> \n",
       "        <th class=\"col_heading level0 col8\" >Total</th> \n",
       "    </tr></thead> \n",
       "<tbody>    <tr> \n",
       "        <th id=\"T_44b1ce7a_5c48_11ec_9e2c_a434d9e97815level0_row0\" class=\"row_heading level0 row0\" >0</th> \n",
       "        <td id=\"T_44b1ce7a_5c48_11ec_9e2c_a434d9e97815row0_col0\" class=\"data row0 col0\" >3-D Man</td> \n",
       "        <td id=\"T_44b1ce7a_5c48_11ec_9e2c_a434d9e97815row0_col1\" class=\"data row0 col1\" >good</td> \n",
       "        <td id=\"T_44b1ce7a_5c48_11ec_9e2c_a434d9e97815row0_col2\" class=\"data row0 col2\" >50</td> \n",
       "        <td id=\"T_44b1ce7a_5c48_11ec_9e2c_a434d9e97815row0_col3\" class=\"data row0 col3\" >31</td> \n",
       "        <td id=\"T_44b1ce7a_5c48_11ec_9e2c_a434d9e97815row0_col4\" class=\"data row0 col4\" >43</td> \n",
       "        <td id=\"T_44b1ce7a_5c48_11ec_9e2c_a434d9e97815row0_col5\" class=\"data row0 col5\" >32</td> \n",
       "        <td id=\"T_44b1ce7a_5c48_11ec_9e2c_a434d9e97815row0_col6\" class=\"data row0 col6\" >25</td> \n",
       "        <td id=\"T_44b1ce7a_5c48_11ec_9e2c_a434d9e97815row0_col7\" class=\"data row0 col7\" >52</td> \n",
       "        <td id=\"T_44b1ce7a_5c48_11ec_9e2c_a434d9e97815row0_col8\" class=\"data row0 col8\" >233</td> \n",
       "    </tr>    <tr> \n",
       "        <th id=\"T_44b1ce7a_5c48_11ec_9e2c_a434d9e97815level0_row1\" class=\"row_heading level0 row1\" >1</th> \n",
       "        <td id=\"T_44b1ce7a_5c48_11ec_9e2c_a434d9e97815row1_col0\" class=\"data row1 col0\" >A-Bomb</td> \n",
       "        <td id=\"T_44b1ce7a_5c48_11ec_9e2c_a434d9e97815row1_col1\" class=\"data row1 col1\" >good</td> \n",
       "        <td id=\"T_44b1ce7a_5c48_11ec_9e2c_a434d9e97815row1_col2\" class=\"data row1 col2\" >38</td> \n",
       "        <td id=\"T_44b1ce7a_5c48_11ec_9e2c_a434d9e97815row1_col3\" class=\"data row1 col3\" >100</td> \n",
       "        <td id=\"T_44b1ce7a_5c48_11ec_9e2c_a434d9e97815row1_col4\" class=\"data row1 col4\" >17</td> \n",
       "        <td id=\"T_44b1ce7a_5c48_11ec_9e2c_a434d9e97815row1_col5\" class=\"data row1 col5\" >80</td> \n",
       "        <td id=\"T_44b1ce7a_5c48_11ec_9e2c_a434d9e97815row1_col6\" class=\"data row1 col6\" >17</td> \n",
       "        <td id=\"T_44b1ce7a_5c48_11ec_9e2c_a434d9e97815row1_col7\" class=\"data row1 col7\" >64</td> \n",
       "        <td id=\"T_44b1ce7a_5c48_11ec_9e2c_a434d9e97815row1_col8\" class=\"data row1 col8\" >316</td> \n",
       "    </tr>    <tr> \n",
       "        <th id=\"T_44b1ce7a_5c48_11ec_9e2c_a434d9e97815level0_row2\" class=\"row_heading level0 row2\" >2</th> \n",
       "        <td id=\"T_44b1ce7a_5c48_11ec_9e2c_a434d9e97815row2_col0\" class=\"data row2 col0\" >Abe Sapien</td> \n",
       "        <td id=\"T_44b1ce7a_5c48_11ec_9e2c_a434d9e97815row2_col1\" class=\"data row2 col1\" >good</td> \n",
       "        <td id=\"T_44b1ce7a_5c48_11ec_9e2c_a434d9e97815row2_col2\" class=\"data row2 col2\" >88</td> \n",
       "        <td id=\"T_44b1ce7a_5c48_11ec_9e2c_a434d9e97815row2_col3\" class=\"data row2 col3\" >14</td> \n",
       "        <td id=\"T_44b1ce7a_5c48_11ec_9e2c_a434d9e97815row2_col4\" class=\"data row2 col4\" >35</td> \n",
       "        <td id=\"T_44b1ce7a_5c48_11ec_9e2c_a434d9e97815row2_col5\" class=\"data row2 col5\" >42</td> \n",
       "        <td id=\"T_44b1ce7a_5c48_11ec_9e2c_a434d9e97815row2_col6\" class=\"data row2 col6\" >35</td> \n",
       "        <td id=\"T_44b1ce7a_5c48_11ec_9e2c_a434d9e97815row2_col7\" class=\"data row2 col7\" >85</td> \n",
       "        <td id=\"T_44b1ce7a_5c48_11ec_9e2c_a434d9e97815row2_col8\" class=\"data row2 col8\" >299</td> \n",
       "    </tr>    <tr> \n",
       "        <th id=\"T_44b1ce7a_5c48_11ec_9e2c_a434d9e97815level0_row3\" class=\"row_heading level0 row3\" >3</th> \n",
       "        <td id=\"T_44b1ce7a_5c48_11ec_9e2c_a434d9e97815row3_col0\" class=\"data row3 col0\" >Abin Sur</td> \n",
       "        <td id=\"T_44b1ce7a_5c48_11ec_9e2c_a434d9e97815row3_col1\" class=\"data row3 col1\" >good</td> \n",
       "        <td id=\"T_44b1ce7a_5c48_11ec_9e2c_a434d9e97815row3_col2\" class=\"data row3 col2\" >50</td> \n",
       "        <td id=\"T_44b1ce7a_5c48_11ec_9e2c_a434d9e97815row3_col3\" class=\"data row3 col3\" >90</td> \n",
       "        <td id=\"T_44b1ce7a_5c48_11ec_9e2c_a434d9e97815row3_col4\" class=\"data row3 col4\" >53</td> \n",
       "        <td id=\"T_44b1ce7a_5c48_11ec_9e2c_a434d9e97815row3_col5\" class=\"data row3 col5\" >64</td> \n",
       "        <td id=\"T_44b1ce7a_5c48_11ec_9e2c_a434d9e97815row3_col6\" class=\"data row3 col6\" >84</td> \n",
       "        <td id=\"T_44b1ce7a_5c48_11ec_9e2c_a434d9e97815row3_col7\" class=\"data row3 col7\" >65</td> \n",
       "        <td id=\"T_44b1ce7a_5c48_11ec_9e2c_a434d9e97815row3_col8\" class=\"data row3 col8\" >406</td> \n",
       "    </tr>    <tr> \n",
       "        <th id=\"T_44b1ce7a_5c48_11ec_9e2c_a434d9e97815level0_row4\" class=\"row_heading level0 row4\" >4</th> \n",
       "        <td id=\"T_44b1ce7a_5c48_11ec_9e2c_a434d9e97815row4_col0\" class=\"data row4 col0\" >Abomination</td> \n",
       "        <td id=\"T_44b1ce7a_5c48_11ec_9e2c_a434d9e97815row4_col1\" class=\"data row4 col1\" >bad</td> \n",
       "        <td id=\"T_44b1ce7a_5c48_11ec_9e2c_a434d9e97815row4_col2\" class=\"data row4 col2\" >63</td> \n",
       "        <td id=\"T_44b1ce7a_5c48_11ec_9e2c_a434d9e97815row4_col3\" class=\"data row4 col3\" >80</td> \n",
       "        <td id=\"T_44b1ce7a_5c48_11ec_9e2c_a434d9e97815row4_col4\" class=\"data row4 col4\" >53</td> \n",
       "        <td id=\"T_44b1ce7a_5c48_11ec_9e2c_a434d9e97815row4_col5\" class=\"data row4 col5\" >90</td> \n",
       "        <td id=\"T_44b1ce7a_5c48_11ec_9e2c_a434d9e97815row4_col6\" class=\"data row4 col6\" >55</td> \n",
       "        <td id=\"T_44b1ce7a_5c48_11ec_9e2c_a434d9e97815row4_col7\" class=\"data row4 col7\" >95</td> \n",
       "        <td id=\"T_44b1ce7a_5c48_11ec_9e2c_a434d9e97815row4_col8\" class=\"data row4 col8\" >436</td> \n",
       "    </tr></tbody> \n",
       "</table> "
      ],
      "text/plain": [
       "<pandas.io.formats.style.Styler at 0x1c9c2cb5438>"
      ]
     },
     "execution_count": 4,
     "metadata": {},
     "output_type": "execute_result"
    }
   ],
   "source": [
    "data.head().style"
   ]
  },
  {
   "cell_type": "code",
   "execution_count": 5,
   "metadata": {},
   "outputs": [
    {
     "name": "stdout",
     "output_type": "stream",
     "text": [
      "Rows: 611\n",
      "Columns: 9\n"
     ]
    }
   ],
   "source": [
    "info = data.shape\n",
    "rows = str(info[0])\n",
    "cols = str(info[1])\n",
    "print(\"Rows: \" + rows)\n",
    "print(\"Columns: \" + cols)"
   ]
  },
  {
   "cell_type": "markdown",
   "metadata": {},
   "source": [
    "The first 5 entries show `good` and `bad` as possible values for the `Alignment` variable, but we should check to make sure. \n",
    "\n",
    "The `value_counts()` method will show us what options are available."
   ]
  },
  {
   "cell_type": "code",
   "execution_count": 6,
   "metadata": {},
   "outputs": [
    {
     "name": "stdout",
     "output_type": "stream",
     "text": [
      "good       432\n",
      "bad        165\n",
      "neutral     11\n",
      "Name: Alignment, dtype: int64\n"
     ]
    }
   ],
   "source": [
    "alignments = data['Alignment'].value_counts()\n",
    "print(alignments)"
   ]
  },
  {
   "cell_type": "markdown",
   "metadata": {},
   "source": [
    "Here we can see there are three possible values: good, bad, and neutral.\n",
    "\n",
    "## Heroes Queries\n",
    "\n",
    "Next, let's find the first 5 superheroes with `good` alignment."
   ]
  },
  {
   "cell_type": "code",
   "execution_count": 49,
   "metadata": {},
   "outputs": [
    {
     "data": {
      "text/html": [
       "<style  type=\"text/css\" >\n",
       "</style>  \n",
       "<table id=\"T_81a9f5f8_5ea8_11ec_85c7_a434d9e97815\" > \n",
       "<thead>    <tr> \n",
       "        <th class=\"blank level0\" ></th> \n",
       "        <th class=\"col_heading level0 col0\" >Name</th> \n",
       "        <th class=\"col_heading level0 col1\" >Alignment</th> \n",
       "        <th class=\"col_heading level0 col2\" >Intelligence</th> \n",
       "        <th class=\"col_heading level0 col3\" >Strength</th> \n",
       "        <th class=\"col_heading level0 col4\" >Speed</th> \n",
       "        <th class=\"col_heading level0 col5\" >Durability</th> \n",
       "        <th class=\"col_heading level0 col6\" >Power</th> \n",
       "        <th class=\"col_heading level0 col7\" >Combat</th> \n",
       "        <th class=\"col_heading level0 col8\" >Total</th> \n",
       "    </tr></thead> \n",
       "<tbody>    <tr> \n",
       "        <th id=\"T_81a9f5f8_5ea8_11ec_85c7_a434d9e97815level0_row0\" class=\"row_heading level0 row0\" >0</th> \n",
       "        <td id=\"T_81a9f5f8_5ea8_11ec_85c7_a434d9e97815row0_col0\" class=\"data row0 col0\" >3-D Man</td> \n",
       "        <td id=\"T_81a9f5f8_5ea8_11ec_85c7_a434d9e97815row0_col1\" class=\"data row0 col1\" >good</td> \n",
       "        <td id=\"T_81a9f5f8_5ea8_11ec_85c7_a434d9e97815row0_col2\" class=\"data row0 col2\" >50</td> \n",
       "        <td id=\"T_81a9f5f8_5ea8_11ec_85c7_a434d9e97815row0_col3\" class=\"data row0 col3\" >31</td> \n",
       "        <td id=\"T_81a9f5f8_5ea8_11ec_85c7_a434d9e97815row0_col4\" class=\"data row0 col4\" >43</td> \n",
       "        <td id=\"T_81a9f5f8_5ea8_11ec_85c7_a434d9e97815row0_col5\" class=\"data row0 col5\" >32</td> \n",
       "        <td id=\"T_81a9f5f8_5ea8_11ec_85c7_a434d9e97815row0_col6\" class=\"data row0 col6\" >25</td> \n",
       "        <td id=\"T_81a9f5f8_5ea8_11ec_85c7_a434d9e97815row0_col7\" class=\"data row0 col7\" >52</td> \n",
       "        <td id=\"T_81a9f5f8_5ea8_11ec_85c7_a434d9e97815row0_col8\" class=\"data row0 col8\" >233</td> \n",
       "    </tr>    <tr> \n",
       "        <th id=\"T_81a9f5f8_5ea8_11ec_85c7_a434d9e97815level0_row1\" class=\"row_heading level0 row1\" >1</th> \n",
       "        <td id=\"T_81a9f5f8_5ea8_11ec_85c7_a434d9e97815row1_col0\" class=\"data row1 col0\" >A-Bomb</td> \n",
       "        <td id=\"T_81a9f5f8_5ea8_11ec_85c7_a434d9e97815row1_col1\" class=\"data row1 col1\" >good</td> \n",
       "        <td id=\"T_81a9f5f8_5ea8_11ec_85c7_a434d9e97815row1_col2\" class=\"data row1 col2\" >38</td> \n",
       "        <td id=\"T_81a9f5f8_5ea8_11ec_85c7_a434d9e97815row1_col3\" class=\"data row1 col3\" >100</td> \n",
       "        <td id=\"T_81a9f5f8_5ea8_11ec_85c7_a434d9e97815row1_col4\" class=\"data row1 col4\" >17</td> \n",
       "        <td id=\"T_81a9f5f8_5ea8_11ec_85c7_a434d9e97815row1_col5\" class=\"data row1 col5\" >80</td> \n",
       "        <td id=\"T_81a9f5f8_5ea8_11ec_85c7_a434d9e97815row1_col6\" class=\"data row1 col6\" >17</td> \n",
       "        <td id=\"T_81a9f5f8_5ea8_11ec_85c7_a434d9e97815row1_col7\" class=\"data row1 col7\" >64</td> \n",
       "        <td id=\"T_81a9f5f8_5ea8_11ec_85c7_a434d9e97815row1_col8\" class=\"data row1 col8\" >316</td> \n",
       "    </tr>    <tr> \n",
       "        <th id=\"T_81a9f5f8_5ea8_11ec_85c7_a434d9e97815level0_row2\" class=\"row_heading level0 row2\" >2</th> \n",
       "        <td id=\"T_81a9f5f8_5ea8_11ec_85c7_a434d9e97815row2_col0\" class=\"data row2 col0\" >Abe Sapien</td> \n",
       "        <td id=\"T_81a9f5f8_5ea8_11ec_85c7_a434d9e97815row2_col1\" class=\"data row2 col1\" >good</td> \n",
       "        <td id=\"T_81a9f5f8_5ea8_11ec_85c7_a434d9e97815row2_col2\" class=\"data row2 col2\" >88</td> \n",
       "        <td id=\"T_81a9f5f8_5ea8_11ec_85c7_a434d9e97815row2_col3\" class=\"data row2 col3\" >14</td> \n",
       "        <td id=\"T_81a9f5f8_5ea8_11ec_85c7_a434d9e97815row2_col4\" class=\"data row2 col4\" >35</td> \n",
       "        <td id=\"T_81a9f5f8_5ea8_11ec_85c7_a434d9e97815row2_col5\" class=\"data row2 col5\" >42</td> \n",
       "        <td id=\"T_81a9f5f8_5ea8_11ec_85c7_a434d9e97815row2_col6\" class=\"data row2 col6\" >35</td> \n",
       "        <td id=\"T_81a9f5f8_5ea8_11ec_85c7_a434d9e97815row2_col7\" class=\"data row2 col7\" >85</td> \n",
       "        <td id=\"T_81a9f5f8_5ea8_11ec_85c7_a434d9e97815row2_col8\" class=\"data row2 col8\" >299</td> \n",
       "    </tr>    <tr> \n",
       "        <th id=\"T_81a9f5f8_5ea8_11ec_85c7_a434d9e97815level0_row3\" class=\"row_heading level0 row3\" >3</th> \n",
       "        <td id=\"T_81a9f5f8_5ea8_11ec_85c7_a434d9e97815row3_col0\" class=\"data row3 col0\" >Abin Sur</td> \n",
       "        <td id=\"T_81a9f5f8_5ea8_11ec_85c7_a434d9e97815row3_col1\" class=\"data row3 col1\" >good</td> \n",
       "        <td id=\"T_81a9f5f8_5ea8_11ec_85c7_a434d9e97815row3_col2\" class=\"data row3 col2\" >50</td> \n",
       "        <td id=\"T_81a9f5f8_5ea8_11ec_85c7_a434d9e97815row3_col3\" class=\"data row3 col3\" >90</td> \n",
       "        <td id=\"T_81a9f5f8_5ea8_11ec_85c7_a434d9e97815row3_col4\" class=\"data row3 col4\" >53</td> \n",
       "        <td id=\"T_81a9f5f8_5ea8_11ec_85c7_a434d9e97815row3_col5\" class=\"data row3 col5\" >64</td> \n",
       "        <td id=\"T_81a9f5f8_5ea8_11ec_85c7_a434d9e97815row3_col6\" class=\"data row3 col6\" >84</td> \n",
       "        <td id=\"T_81a9f5f8_5ea8_11ec_85c7_a434d9e97815row3_col7\" class=\"data row3 col7\" >65</td> \n",
       "        <td id=\"T_81a9f5f8_5ea8_11ec_85c7_a434d9e97815row3_col8\" class=\"data row3 col8\" >406</td> \n",
       "    </tr>    <tr> \n",
       "        <th id=\"T_81a9f5f8_5ea8_11ec_85c7_a434d9e97815level0_row4\" class=\"row_heading level0 row4\" >6</th> \n",
       "        <td id=\"T_81a9f5f8_5ea8_11ec_85c7_a434d9e97815row4_col0\" class=\"data row4 col0\" >Adam Monroe</td> \n",
       "        <td id=\"T_81a9f5f8_5ea8_11ec_85c7_a434d9e97815row4_col1\" class=\"data row4 col1\" >good</td> \n",
       "        <td id=\"T_81a9f5f8_5ea8_11ec_85c7_a434d9e97815row4_col2\" class=\"data row4 col2\" >63</td> \n",
       "        <td id=\"T_81a9f5f8_5ea8_11ec_85c7_a434d9e97815row4_col3\" class=\"data row4 col3\" >10</td> \n",
       "        <td id=\"T_81a9f5f8_5ea8_11ec_85c7_a434d9e97815row4_col4\" class=\"data row4 col4\" >12</td> \n",
       "        <td id=\"T_81a9f5f8_5ea8_11ec_85c7_a434d9e97815row4_col5\" class=\"data row4 col5\" >100</td> \n",
       "        <td id=\"T_81a9f5f8_5ea8_11ec_85c7_a434d9e97815row4_col6\" class=\"data row4 col6\" >71</td> \n",
       "        <td id=\"T_81a9f5f8_5ea8_11ec_85c7_a434d9e97815row4_col7\" class=\"data row4 col7\" >64</td> \n",
       "        <td id=\"T_81a9f5f8_5ea8_11ec_85c7_a434d9e97815row4_col8\" class=\"data row4 col8\" >320</td> \n",
       "    </tr></tbody> \n",
       "</table> "
      ],
      "text/plain": [
       "<pandas.io.formats.style.Styler at 0x1c9c3f18da0>"
      ]
     },
     "execution_count": 49,
     "metadata": {},
     "output_type": "execute_result"
    }
   ],
   "source": [
    "heroes = data[data['Alignment'] == 'good']\n",
    "first_5_heroes = heroes.head()\n",
    "first_5_heroes.style"
   ]
  },
  {
   "cell_type": "markdown",
   "metadata": {},
   "source": [
    "Let's find the top 5 fastest heroes."
   ]
  },
  {
   "cell_type": "code",
   "execution_count": 50,
   "metadata": {},
   "outputs": [
    {
     "data": {
      "text/html": [
       "<style  type=\"text/css\" >\n",
       "</style>  \n",
       "<table id=\"T_83e45918_5ea8_11ec_b815_a434d9e97815\" > \n",
       "<thead>    <tr> \n",
       "        <th class=\"blank level0\" ></th> \n",
       "        <th class=\"col_heading level0 col0\" >Name</th> \n",
       "        <th class=\"col_heading level0 col1\" >Alignment</th> \n",
       "        <th class=\"col_heading level0 col2\" >Intelligence</th> \n",
       "        <th class=\"col_heading level0 col3\" >Strength</th> \n",
       "        <th class=\"col_heading level0 col4\" >Speed</th> \n",
       "        <th class=\"col_heading level0 col5\" >Durability</th> \n",
       "        <th class=\"col_heading level0 col6\" >Power</th> \n",
       "        <th class=\"col_heading level0 col7\" >Combat</th> \n",
       "        <th class=\"col_heading level0 col8\" >Total</th> \n",
       "    </tr></thead> \n",
       "<tbody>    <tr> \n",
       "        <th id=\"T_83e45918_5ea8_11ec_b815_a434d9e97815level0_row0\" class=\"row_heading level0 row0\" >85</th> \n",
       "        <td id=\"T_83e45918_5ea8_11ec_b815_a434d9e97815row0_col0\" class=\"data row0 col0\" >Black Bolt</td> \n",
       "        <td id=\"T_83e45918_5ea8_11ec_b815_a434d9e97815row0_col1\" class=\"data row0 col1\" >good</td> \n",
       "        <td id=\"T_83e45918_5ea8_11ec_b815_a434d9e97815row0_col2\" class=\"data row0 col2\" >75</td> \n",
       "        <td id=\"T_83e45918_5ea8_11ec_b815_a434d9e97815row0_col3\" class=\"data row0 col3\" >67</td> \n",
       "        <td id=\"T_83e45918_5ea8_11ec_b815_a434d9e97815row0_col4\" class=\"data row0 col4\" >100</td> \n",
       "        <td id=\"T_83e45918_5ea8_11ec_b815_a434d9e97815row0_col5\" class=\"data row0 col5\" >84</td> \n",
       "        <td id=\"T_83e45918_5ea8_11ec_b815_a434d9e97815row0_col6\" class=\"data row0 col6\" >100</td> \n",
       "        <td id=\"T_83e45918_5ea8_11ec_b815_a434d9e97815row0_col7\" class=\"data row0 col7\" >56</td> \n",
       "        <td id=\"T_83e45918_5ea8_11ec_b815_a434d9e97815row0_col8\" class=\"data row0 col8\" >482</td> \n",
       "    </tr>    <tr> \n",
       "        <th id=\"T_83e45918_5ea8_11ec_b815_a434d9e97815level0_row1\" class=\"row_heading level0 row1\" >229</th> \n",
       "        <td id=\"T_83e45918_5ea8_11ec_b815_a434d9e97815row1_col0\" class=\"data row1 col0\" >Flash I</td> \n",
       "        <td id=\"T_83e45918_5ea8_11ec_b815_a434d9e97815row1_col1\" class=\"data row1 col1\" >good</td> \n",
       "        <td id=\"T_83e45918_5ea8_11ec_b815_a434d9e97815row1_col2\" class=\"data row1 col2\" >63</td> \n",
       "        <td id=\"T_83e45918_5ea8_11ec_b815_a434d9e97815row1_col3\" class=\"data row1 col3\" >10</td> \n",
       "        <td id=\"T_83e45918_5ea8_11ec_b815_a434d9e97815row1_col4\" class=\"data row1 col4\" >100</td> \n",
       "        <td id=\"T_83e45918_5ea8_11ec_b815_a434d9e97815row1_col5\" class=\"data row1 col5\" >50</td> \n",
       "        <td id=\"T_83e45918_5ea8_11ec_b815_a434d9e97815row1_col6\" class=\"data row1 col6\" >57</td> \n",
       "        <td id=\"T_83e45918_5ea8_11ec_b815_a434d9e97815row1_col7\" class=\"data row1 col7\" >32</td> \n",
       "        <td id=\"T_83e45918_5ea8_11ec_b815_a434d9e97815row1_col8\" class=\"data row1 col8\" >312</td> \n",
       "    </tr>    <tr> \n",
       "        <th id=\"T_83e45918_5ea8_11ec_b815_a434d9e97815level0_row2\" class=\"row_heading level0 row2\" >230</th> \n",
       "        <td id=\"T_83e45918_5ea8_11ec_b815_a434d9e97815row2_col0\" class=\"data row2 col0\" >Flash II</td> \n",
       "        <td id=\"T_83e45918_5ea8_11ec_b815_a434d9e97815row2_col1\" class=\"data row2 col1\" >good</td> \n",
       "        <td id=\"T_83e45918_5ea8_11ec_b815_a434d9e97815row2_col2\" class=\"data row2 col2\" >63</td> \n",
       "        <td id=\"T_83e45918_5ea8_11ec_b815_a434d9e97815row2_col3\" class=\"data row2 col3\" >10</td> \n",
       "        <td id=\"T_83e45918_5ea8_11ec_b815_a434d9e97815row2_col4\" class=\"data row2 col4\" >100</td> \n",
       "        <td id=\"T_83e45918_5ea8_11ec_b815_a434d9e97815row2_col5\" class=\"data row2 col5\" >60</td> \n",
       "        <td id=\"T_83e45918_5ea8_11ec_b815_a434d9e97815row2_col6\" class=\"data row2 col6\" >66</td> \n",
       "        <td id=\"T_83e45918_5ea8_11ec_b815_a434d9e97815row2_col7\" class=\"data row2 col7\" >32</td> \n",
       "        <td id=\"T_83e45918_5ea8_11ec_b815_a434d9e97815row2_col8\" class=\"data row2 col8\" >331</td> \n",
       "    </tr>    <tr> \n",
       "        <th id=\"T_83e45918_5ea8_11ec_b815_a434d9e97815level0_row3\" class=\"row_heading level0 row3\" >231</th> \n",
       "        <td id=\"T_83e45918_5ea8_11ec_b815_a434d9e97815row3_col0\" class=\"data row3 col0\" >Flash III</td> \n",
       "        <td id=\"T_83e45918_5ea8_11ec_b815_a434d9e97815row3_col1\" class=\"data row3 col1\" >good</td> \n",
       "        <td id=\"T_83e45918_5ea8_11ec_b815_a434d9e97815row3_col2\" class=\"data row3 col2\" >63</td> \n",
       "        <td id=\"T_83e45918_5ea8_11ec_b815_a434d9e97815row3_col3\" class=\"data row3 col3\" >10</td> \n",
       "        <td id=\"T_83e45918_5ea8_11ec_b815_a434d9e97815row3_col4\" class=\"data row3 col4\" >100</td> \n",
       "        <td id=\"T_83e45918_5ea8_11ec_b815_a434d9e97815row3_col5\" class=\"data row3 col5\" >60</td> \n",
       "        <td id=\"T_83e45918_5ea8_11ec_b815_a434d9e97815row3_col6\" class=\"data row3 col6\" >83</td> \n",
       "        <td id=\"T_83e45918_5ea8_11ec_b815_a434d9e97815row3_col7\" class=\"data row3 col7\" >32</td> \n",
       "        <td id=\"T_83e45918_5ea8_11ec_b815_a434d9e97815row3_col8\" class=\"data row3 col8\" >348</td> \n",
       "    </tr>    <tr> \n",
       "        <th id=\"T_83e45918_5ea8_11ec_b815_a434d9e97815level0_row4\" class=\"row_heading level0 row4\" >232</th> \n",
       "        <td id=\"T_83e45918_5ea8_11ec_b815_a434d9e97815row4_col0\" class=\"data row4 col0\" >Flash IV</td> \n",
       "        <td id=\"T_83e45918_5ea8_11ec_b815_a434d9e97815row4_col1\" class=\"data row4 col1\" >good</td> \n",
       "        <td id=\"T_83e45918_5ea8_11ec_b815_a434d9e97815row4_col2\" class=\"data row4 col2\" >63</td> \n",
       "        <td id=\"T_83e45918_5ea8_11ec_b815_a434d9e97815row4_col3\" class=\"data row4 col3\" >10</td> \n",
       "        <td id=\"T_83e45918_5ea8_11ec_b815_a434d9e97815row4_col4\" class=\"data row4 col4\" >100</td> \n",
       "        <td id=\"T_83e45918_5ea8_11ec_b815_a434d9e97815row4_col5\" class=\"data row4 col5\" >32</td> \n",
       "        <td id=\"T_83e45918_5ea8_11ec_b815_a434d9e97815row4_col6\" class=\"data row4 col6\" >59</td> \n",
       "        <td id=\"T_83e45918_5ea8_11ec_b815_a434d9e97815row4_col7\" class=\"data row4 col7\" >48</td> \n",
       "        <td id=\"T_83e45918_5ea8_11ec_b815_a434d9e97815row4_col8\" class=\"data row4 col8\" >312</td> \n",
       "    </tr></tbody> \n",
       "</table> "
      ],
      "text/plain": [
       "<pandas.io.formats.style.Styler at 0x1c9c5dad6d8>"
      ]
     },
     "execution_count": 50,
     "metadata": {},
     "output_type": "execute_result"
    }
   ],
   "source": [
    "fastest_heroes = heroes.nlargest(5, 'Speed')\n",
    "fastest_heroes.style"
   ]
  },
  {
   "cell_type": "markdown",
   "metadata": {},
   "source": [
    "Let's see the top 5 heroes ranked by `Power`."
   ]
  },
  {
   "cell_type": "code",
   "execution_count": 51,
   "metadata": {},
   "outputs": [
    {
     "data": {
      "text/html": [
       "<style  type=\"text/css\" >\n",
       "</style>  \n",
       "<table id=\"T_86274780_5ea8_11ec_a149_a434d9e97815\" > \n",
       "<thead>    <tr> \n",
       "        <th class=\"blank level0\" ></th> \n",
       "        <th class=\"col_heading level0 col0\" >Name</th> \n",
       "        <th class=\"col_heading level0 col1\" >Alignment</th> \n",
       "        <th class=\"col_heading level0 col2\" >Intelligence</th> \n",
       "        <th class=\"col_heading level0 col3\" >Strength</th> \n",
       "        <th class=\"col_heading level0 col4\" >Speed</th> \n",
       "        <th class=\"col_heading level0 col5\" >Durability</th> \n",
       "        <th class=\"col_heading level0 col6\" >Power</th> \n",
       "        <th class=\"col_heading level0 col7\" >Combat</th> \n",
       "        <th class=\"col_heading level0 col8\" >Total</th> \n",
       "    </tr></thead> \n",
       "<tbody>    <tr> \n",
       "        <th id=\"T_86274780_5ea8_11ec_a149_a434d9e97815level0_row0\" class=\"row_heading level0 row0\" >69</th> \n",
       "        <td id=\"T_86274780_5ea8_11ec_a149_a434d9e97815row0_col0\" class=\"data row0 col0\" >Beta Ray Bill</td> \n",
       "        <td id=\"T_86274780_5ea8_11ec_a149_a434d9e97815row0_col1\" class=\"data row0 col1\" >good</td> \n",
       "        <td id=\"T_86274780_5ea8_11ec_a149_a434d9e97815row0_col2\" class=\"data row0 col2\" >63</td> \n",
       "        <td id=\"T_86274780_5ea8_11ec_a149_a434d9e97815row0_col3\" class=\"data row0 col3\" >80</td> \n",
       "        <td id=\"T_86274780_5ea8_11ec_a149_a434d9e97815row0_col4\" class=\"data row0 col4\" >35</td> \n",
       "        <td id=\"T_86274780_5ea8_11ec_a149_a434d9e97815row0_col5\" class=\"data row0 col5\" >95</td> \n",
       "        <td id=\"T_86274780_5ea8_11ec_a149_a434d9e97815row0_col6\" class=\"data row0 col6\" >100</td> \n",
       "        <td id=\"T_86274780_5ea8_11ec_a149_a434d9e97815row0_col7\" class=\"data row0 col7\" >84</td> \n",
       "        <td id=\"T_86274780_5ea8_11ec_a149_a434d9e97815row0_col8\" class=\"data row0 col8\" >457</td> \n",
       "    </tr>    <tr> \n",
       "        <th id=\"T_86274780_5ea8_11ec_a149_a434d9e97815level0_row1\" class=\"row_heading level0 row1\" >70</th> \n",
       "        <td id=\"T_86274780_5ea8_11ec_a149_a434d9e97815row1_col0\" class=\"data row1 col0\" >Beyonder</td> \n",
       "        <td id=\"T_86274780_5ea8_11ec_a149_a434d9e97815row1_col1\" class=\"data row1 col1\" >good</td> \n",
       "        <td id=\"T_86274780_5ea8_11ec_a149_a434d9e97815row1_col2\" class=\"data row1 col2\" >88</td> \n",
       "        <td id=\"T_86274780_5ea8_11ec_a149_a434d9e97815row1_col3\" class=\"data row1 col3\" >100</td> \n",
       "        <td id=\"T_86274780_5ea8_11ec_a149_a434d9e97815row1_col4\" class=\"data row1 col4\" >23</td> \n",
       "        <td id=\"T_86274780_5ea8_11ec_a149_a434d9e97815row1_col5\" class=\"data row1 col5\" >100</td> \n",
       "        <td id=\"T_86274780_5ea8_11ec_a149_a434d9e97815row1_col6\" class=\"data row1 col6\" >100</td> \n",
       "        <td id=\"T_86274780_5ea8_11ec_a149_a434d9e97815row1_col7\" class=\"data row1 col7\" >56</td> \n",
       "        <td id=\"T_86274780_5ea8_11ec_a149_a434d9e97815row1_col8\" class=\"data row1 col8\" >467</td> \n",
       "    </tr>    <tr> \n",
       "        <th id=\"T_86274780_5ea8_11ec_a149_a434d9e97815level0_row2\" class=\"row_heading level0 row2\" >85</th> \n",
       "        <td id=\"T_86274780_5ea8_11ec_a149_a434d9e97815row2_col0\" class=\"data row2 col0\" >Black Bolt</td> \n",
       "        <td id=\"T_86274780_5ea8_11ec_a149_a434d9e97815row2_col1\" class=\"data row2 col1\" >good</td> \n",
       "        <td id=\"T_86274780_5ea8_11ec_a149_a434d9e97815row2_col2\" class=\"data row2 col2\" >75</td> \n",
       "        <td id=\"T_86274780_5ea8_11ec_a149_a434d9e97815row2_col3\" class=\"data row2 col3\" >67</td> \n",
       "        <td id=\"T_86274780_5ea8_11ec_a149_a434d9e97815row2_col4\" class=\"data row2 col4\" >100</td> \n",
       "        <td id=\"T_86274780_5ea8_11ec_a149_a434d9e97815row2_col5\" class=\"data row2 col5\" >84</td> \n",
       "        <td id=\"T_86274780_5ea8_11ec_a149_a434d9e97815row2_col6\" class=\"data row2 col6\" >100</td> \n",
       "        <td id=\"T_86274780_5ea8_11ec_a149_a434d9e97815row2_col7\" class=\"data row2 col7\" >56</td> \n",
       "        <td id=\"T_86274780_5ea8_11ec_a149_a434d9e97815row2_col8\" class=\"data row2 col8\" >482</td> \n",
       "    </tr>    <tr> \n",
       "        <th id=\"T_86274780_5ea8_11ec_a149_a434d9e97815level0_row3\" class=\"row_heading level0 row3\" >129</th> \n",
       "        <td id=\"T_86274780_5ea8_11ec_a149_a434d9e97815row3_col0\" class=\"data row3 col0\" >Cable</td> \n",
       "        <td id=\"T_86274780_5ea8_11ec_a149_a434d9e97815row3_col1\" class=\"data row3 col1\" >good</td> \n",
       "        <td id=\"T_86274780_5ea8_11ec_a149_a434d9e97815row3_col2\" class=\"data row3 col2\" >88</td> \n",
       "        <td id=\"T_86274780_5ea8_11ec_a149_a434d9e97815row3_col3\" class=\"data row3 col3\" >48</td> \n",
       "        <td id=\"T_86274780_5ea8_11ec_a149_a434d9e97815row3_col4\" class=\"data row3 col4\" >23</td> \n",
       "        <td id=\"T_86274780_5ea8_11ec_a149_a434d9e97815row3_col5\" class=\"data row3 col5\" >56</td> \n",
       "        <td id=\"T_86274780_5ea8_11ec_a149_a434d9e97815row3_col6\" class=\"data row3 col6\" >100</td> \n",
       "        <td id=\"T_86274780_5ea8_11ec_a149_a434d9e97815row3_col7\" class=\"data row3 col7\" >80</td> \n",
       "        <td id=\"T_86274780_5ea8_11ec_a149_a434d9e97815row3_col8\" class=\"data row3 col8\" >395</td> \n",
       "    </tr>    <tr> \n",
       "        <th id=\"T_86274780_5ea8_11ec_a149_a434d9e97815level0_row4\" class=\"row_heading level0 row4\" >185</th> \n",
       "        <td id=\"T_86274780_5ea8_11ec_a149_a434d9e97815row4_col0\" class=\"data row4 col0\" >Deadman</td> \n",
       "        <td id=\"T_86274780_5ea8_11ec_a149_a434d9e97815row4_col1\" class=\"data row4 col1\" >good</td> \n",
       "        <td id=\"T_86274780_5ea8_11ec_a149_a434d9e97815row4_col2\" class=\"data row4 col2\" >50</td> \n",
       "        <td id=\"T_86274780_5ea8_11ec_a149_a434d9e97815row4_col3\" class=\"data row4 col3\" >10</td> \n",
       "        <td id=\"T_86274780_5ea8_11ec_a149_a434d9e97815row4_col4\" class=\"data row4 col4\" >33</td> \n",
       "        <td id=\"T_86274780_5ea8_11ec_a149_a434d9e97815row4_col5\" class=\"data row4 col5\" >100</td> \n",
       "        <td id=\"T_86274780_5ea8_11ec_a149_a434d9e97815row4_col6\" class=\"data row4 col6\" >100</td> \n",
       "        <td id=\"T_86274780_5ea8_11ec_a149_a434d9e97815row4_col7\" class=\"data row4 col7\" >42</td> \n",
       "        <td id=\"T_86274780_5ea8_11ec_a149_a434d9e97815row4_col8\" class=\"data row4 col8\" >335</td> \n",
       "    </tr></tbody> \n",
       "</table> "
      ],
      "text/plain": [
       "<pandas.io.formats.style.Styler at 0x1c9c5ce2c18>"
      ]
     },
     "execution_count": 51,
     "metadata": {},
     "output_type": "execute_result"
    }
   ],
   "source": [
    "strongest_heroes = heroes.nlargest(5, 'Power')\n",
    "strongest_heroes.style"
   ]
  },
  {
   "cell_type": "markdown",
   "metadata": {},
   "source": [
    "They're all at 100 `Power`. How many heroes have 100 `Power` in total?"
   ]
  },
  {
   "cell_type": "code",
   "execution_count": 28,
   "metadata": {},
   "outputs": [
    {
     "name": "stdout",
     "output_type": "stream",
     "text": [
      "Heroes with 100 Power: 33\n"
     ]
    }
   ],
   "source": [
    "count_strongest_heroes = heroes[heroes['Power'] == 100].shape[0]\n",
    "print(\"Heroes with 100 Power: \" + str(count_strongest_heroes))"
   ]
  },
  {
   "cell_type": "markdown",
   "metadata": {},
   "source": [
    "Let's see all records with heroes of 100 Power."
   ]
  },
  {
   "cell_type": "code",
   "execution_count": 29,
   "metadata": {},
   "outputs": [
    {
     "data": {
      "text/html": [
       "<style  type=\"text/css\" >\n",
       "</style>  \n",
       "<table id=\"T_0e506dfa_5c52_11ec_97f0_a434d9e97815\" > \n",
       "<thead>    <tr> \n",
       "        <th class=\"blank level0\" ></th> \n",
       "        <th class=\"col_heading level0 col0\" >Name</th> \n",
       "        <th class=\"col_heading level0 col1\" >Alignment</th> \n",
       "        <th class=\"col_heading level0 col2\" >Intelligence</th> \n",
       "        <th class=\"col_heading level0 col3\" >Strength</th> \n",
       "        <th class=\"col_heading level0 col4\" >Speed</th> \n",
       "        <th class=\"col_heading level0 col5\" >Durability</th> \n",
       "        <th class=\"col_heading level0 col6\" >Power</th> \n",
       "        <th class=\"col_heading level0 col7\" >Combat</th> \n",
       "        <th class=\"col_heading level0 col8\" >Total</th> \n",
       "    </tr></thead> \n",
       "<tbody>    <tr> \n",
       "        <th id=\"T_0e506dfa_5c52_11ec_97f0_a434d9e97815level0_row0\" class=\"row_heading level0 row0\" >69</th> \n",
       "        <td id=\"T_0e506dfa_5c52_11ec_97f0_a434d9e97815row0_col0\" class=\"data row0 col0\" >Beta Ray Bill</td> \n",
       "        <td id=\"T_0e506dfa_5c52_11ec_97f0_a434d9e97815row0_col1\" class=\"data row0 col1\" >good</td> \n",
       "        <td id=\"T_0e506dfa_5c52_11ec_97f0_a434d9e97815row0_col2\" class=\"data row0 col2\" >63</td> \n",
       "        <td id=\"T_0e506dfa_5c52_11ec_97f0_a434d9e97815row0_col3\" class=\"data row0 col3\" >80</td> \n",
       "        <td id=\"T_0e506dfa_5c52_11ec_97f0_a434d9e97815row0_col4\" class=\"data row0 col4\" >35</td> \n",
       "        <td id=\"T_0e506dfa_5c52_11ec_97f0_a434d9e97815row0_col5\" class=\"data row0 col5\" >95</td> \n",
       "        <td id=\"T_0e506dfa_5c52_11ec_97f0_a434d9e97815row0_col6\" class=\"data row0 col6\" >100</td> \n",
       "        <td id=\"T_0e506dfa_5c52_11ec_97f0_a434d9e97815row0_col7\" class=\"data row0 col7\" >84</td> \n",
       "        <td id=\"T_0e506dfa_5c52_11ec_97f0_a434d9e97815row0_col8\" class=\"data row0 col8\" >457</td> \n",
       "    </tr>    <tr> \n",
       "        <th id=\"T_0e506dfa_5c52_11ec_97f0_a434d9e97815level0_row1\" class=\"row_heading level0 row1\" >70</th> \n",
       "        <td id=\"T_0e506dfa_5c52_11ec_97f0_a434d9e97815row1_col0\" class=\"data row1 col0\" >Beyonder</td> \n",
       "        <td id=\"T_0e506dfa_5c52_11ec_97f0_a434d9e97815row1_col1\" class=\"data row1 col1\" >good</td> \n",
       "        <td id=\"T_0e506dfa_5c52_11ec_97f0_a434d9e97815row1_col2\" class=\"data row1 col2\" >88</td> \n",
       "        <td id=\"T_0e506dfa_5c52_11ec_97f0_a434d9e97815row1_col3\" class=\"data row1 col3\" >100</td> \n",
       "        <td id=\"T_0e506dfa_5c52_11ec_97f0_a434d9e97815row1_col4\" class=\"data row1 col4\" >23</td> \n",
       "        <td id=\"T_0e506dfa_5c52_11ec_97f0_a434d9e97815row1_col5\" class=\"data row1 col5\" >100</td> \n",
       "        <td id=\"T_0e506dfa_5c52_11ec_97f0_a434d9e97815row1_col6\" class=\"data row1 col6\" >100</td> \n",
       "        <td id=\"T_0e506dfa_5c52_11ec_97f0_a434d9e97815row1_col7\" class=\"data row1 col7\" >56</td> \n",
       "        <td id=\"T_0e506dfa_5c52_11ec_97f0_a434d9e97815row1_col8\" class=\"data row1 col8\" >467</td> \n",
       "    </tr>    <tr> \n",
       "        <th id=\"T_0e506dfa_5c52_11ec_97f0_a434d9e97815level0_row2\" class=\"row_heading level0 row2\" >85</th> \n",
       "        <td id=\"T_0e506dfa_5c52_11ec_97f0_a434d9e97815row2_col0\" class=\"data row2 col0\" >Black Bolt</td> \n",
       "        <td id=\"T_0e506dfa_5c52_11ec_97f0_a434d9e97815row2_col1\" class=\"data row2 col1\" >good</td> \n",
       "        <td id=\"T_0e506dfa_5c52_11ec_97f0_a434d9e97815row2_col2\" class=\"data row2 col2\" >75</td> \n",
       "        <td id=\"T_0e506dfa_5c52_11ec_97f0_a434d9e97815row2_col3\" class=\"data row2 col3\" >67</td> \n",
       "        <td id=\"T_0e506dfa_5c52_11ec_97f0_a434d9e97815row2_col4\" class=\"data row2 col4\" >100</td> \n",
       "        <td id=\"T_0e506dfa_5c52_11ec_97f0_a434d9e97815row2_col5\" class=\"data row2 col5\" >84</td> \n",
       "        <td id=\"T_0e506dfa_5c52_11ec_97f0_a434d9e97815row2_col6\" class=\"data row2 col6\" >100</td> \n",
       "        <td id=\"T_0e506dfa_5c52_11ec_97f0_a434d9e97815row2_col7\" class=\"data row2 col7\" >56</td> \n",
       "        <td id=\"T_0e506dfa_5c52_11ec_97f0_a434d9e97815row2_col8\" class=\"data row2 col8\" >482</td> \n",
       "    </tr>    <tr> \n",
       "        <th id=\"T_0e506dfa_5c52_11ec_97f0_a434d9e97815level0_row3\" class=\"row_heading level0 row3\" >129</th> \n",
       "        <td id=\"T_0e506dfa_5c52_11ec_97f0_a434d9e97815row3_col0\" class=\"data row3 col0\" >Cable</td> \n",
       "        <td id=\"T_0e506dfa_5c52_11ec_97f0_a434d9e97815row3_col1\" class=\"data row3 col1\" >good</td> \n",
       "        <td id=\"T_0e506dfa_5c52_11ec_97f0_a434d9e97815row3_col2\" class=\"data row3 col2\" >88</td> \n",
       "        <td id=\"T_0e506dfa_5c52_11ec_97f0_a434d9e97815row3_col3\" class=\"data row3 col3\" >48</td> \n",
       "        <td id=\"T_0e506dfa_5c52_11ec_97f0_a434d9e97815row3_col4\" class=\"data row3 col4\" >23</td> \n",
       "        <td id=\"T_0e506dfa_5c52_11ec_97f0_a434d9e97815row3_col5\" class=\"data row3 col5\" >56</td> \n",
       "        <td id=\"T_0e506dfa_5c52_11ec_97f0_a434d9e97815row3_col6\" class=\"data row3 col6\" >100</td> \n",
       "        <td id=\"T_0e506dfa_5c52_11ec_97f0_a434d9e97815row3_col7\" class=\"data row3 col7\" >80</td> \n",
       "        <td id=\"T_0e506dfa_5c52_11ec_97f0_a434d9e97815row3_col8\" class=\"data row3 col8\" >395</td> \n",
       "    </tr>    <tr> \n",
       "        <th id=\"T_0e506dfa_5c52_11ec_97f0_a434d9e97815level0_row4\" class=\"row_heading level0 row4\" >185</th> \n",
       "        <td id=\"T_0e506dfa_5c52_11ec_97f0_a434d9e97815row4_col0\" class=\"data row4 col0\" >Deadman</td> \n",
       "        <td id=\"T_0e506dfa_5c52_11ec_97f0_a434d9e97815row4_col1\" class=\"data row4 col1\" >good</td> \n",
       "        <td id=\"T_0e506dfa_5c52_11ec_97f0_a434d9e97815row4_col2\" class=\"data row4 col2\" >50</td> \n",
       "        <td id=\"T_0e506dfa_5c52_11ec_97f0_a434d9e97815row4_col3\" class=\"data row4 col3\" >10</td> \n",
       "        <td id=\"T_0e506dfa_5c52_11ec_97f0_a434d9e97815row4_col4\" class=\"data row4 col4\" >33</td> \n",
       "        <td id=\"T_0e506dfa_5c52_11ec_97f0_a434d9e97815row4_col5\" class=\"data row4 col5\" >100</td> \n",
       "        <td id=\"T_0e506dfa_5c52_11ec_97f0_a434d9e97815row4_col6\" class=\"data row4 col6\" >100</td> \n",
       "        <td id=\"T_0e506dfa_5c52_11ec_97f0_a434d9e97815row4_col7\" class=\"data row4 col7\" >42</td> \n",
       "        <td id=\"T_0e506dfa_5c52_11ec_97f0_a434d9e97815row4_col8\" class=\"data row4 col8\" >335</td> \n",
       "    </tr>    <tr> \n",
       "        <th id=\"T_0e506dfa_5c52_11ec_97f0_a434d9e97815level0_row5\" class=\"row_heading level0 row5\" >196</th> \n",
       "        <td id=\"T_0e506dfa_5c52_11ec_97f0_a434d9e97815row5_col0\" class=\"data row5 col0\" >Doctor Fate</td> \n",
       "        <td id=\"T_0e506dfa_5c52_11ec_97f0_a434d9e97815row5_col1\" class=\"data row5 col1\" >good</td> \n",
       "        <td id=\"T_0e506dfa_5c52_11ec_97f0_a434d9e97815row5_col2\" class=\"data row5 col2\" >81</td> \n",
       "        <td id=\"T_0e506dfa_5c52_11ec_97f0_a434d9e97815row5_col3\" class=\"data row5 col3\" >16</td> \n",
       "        <td id=\"T_0e506dfa_5c52_11ec_97f0_a434d9e97815row5_col4\" class=\"data row5 col4\" >25</td> \n",
       "        <td id=\"T_0e506dfa_5c52_11ec_97f0_a434d9e97815row5_col5\" class=\"data row5 col5\" >80</td> \n",
       "        <td id=\"T_0e506dfa_5c52_11ec_97f0_a434d9e97815row5_col6\" class=\"data row5 col6\" >100</td> \n",
       "        <td id=\"T_0e506dfa_5c52_11ec_97f0_a434d9e97815row5_col7\" class=\"data row5 col7\" >50</td> \n",
       "        <td id=\"T_0e506dfa_5c52_11ec_97f0_a434d9e97815row5_col8\" class=\"data row5 col8\" >352</td> \n",
       "    </tr>    <tr> \n",
       "        <th id=\"T_0e506dfa_5c52_11ec_97f0_a434d9e97815level0_row6\" class=\"row_heading level0 row6\" >198</th> \n",
       "        <td id=\"T_0e506dfa_5c52_11ec_97f0_a434d9e97815row6_col0\" class=\"data row6 col0\" >Doctor Strange</td> \n",
       "        <td id=\"T_0e506dfa_5c52_11ec_97f0_a434d9e97815row6_col1\" class=\"data row6 col1\" >good</td> \n",
       "        <td id=\"T_0e506dfa_5c52_11ec_97f0_a434d9e97815row6_col2\" class=\"data row6 col2\" >100</td> \n",
       "        <td id=\"T_0e506dfa_5c52_11ec_97f0_a434d9e97815row6_col3\" class=\"data row6 col3\" >10</td> \n",
       "        <td id=\"T_0e506dfa_5c52_11ec_97f0_a434d9e97815row6_col4\" class=\"data row6 col4\" >12</td> \n",
       "        <td id=\"T_0e506dfa_5c52_11ec_97f0_a434d9e97815row6_col5\" class=\"data row6 col5\" >84</td> \n",
       "        <td id=\"T_0e506dfa_5c52_11ec_97f0_a434d9e97815row6_col6\" class=\"data row6 col6\" >100</td> \n",
       "        <td id=\"T_0e506dfa_5c52_11ec_97f0_a434d9e97815row6_col7\" class=\"data row6 col7\" >60</td> \n",
       "        <td id=\"T_0e506dfa_5c52_11ec_97f0_a434d9e97815row6_col8\" class=\"data row6 col8\" >366</td> \n",
       "    </tr>    <tr> \n",
       "        <th id=\"T_0e506dfa_5c52_11ec_97f0_a434d9e97815level0_row7\" class=\"row_heading level0 row7\" >204</th> \n",
       "        <td id=\"T_0e506dfa_5c52_11ec_97f0_a434d9e97815row7_col0\" class=\"data row7 col0\" >Dr Manhattan</td> \n",
       "        <td id=\"T_0e506dfa_5c52_11ec_97f0_a434d9e97815row7_col1\" class=\"data row7 col1\" >good</td> \n",
       "        <td id=\"T_0e506dfa_5c52_11ec_97f0_a434d9e97815row7_col2\" class=\"data row7 col2\" >88</td> \n",
       "        <td id=\"T_0e506dfa_5c52_11ec_97f0_a434d9e97815row7_col3\" class=\"data row7 col3\" >32</td> \n",
       "        <td id=\"T_0e506dfa_5c52_11ec_97f0_a434d9e97815row7_col4\" class=\"data row7 col4\" >42</td> \n",
       "        <td id=\"T_0e506dfa_5c52_11ec_97f0_a434d9e97815row7_col5\" class=\"data row7 col5\" >95</td> \n",
       "        <td id=\"T_0e506dfa_5c52_11ec_97f0_a434d9e97815row7_col6\" class=\"data row7 col6\" >100</td> \n",
       "        <td id=\"T_0e506dfa_5c52_11ec_97f0_a434d9e97815row7_col7\" class=\"data row7 col7\" >42</td> \n",
       "        <td id=\"T_0e506dfa_5c52_11ec_97f0_a434d9e97815row7_col8\" class=\"data row7 col8\" >399</td> \n",
       "    </tr>    <tr> \n",
       "        <th id=\"T_0e506dfa_5c52_11ec_97f0_a434d9e97815level0_row8\" class=\"row_heading level0 row8\" >226</th> \n",
       "        <td id=\"T_0e506dfa_5c52_11ec_97f0_a434d9e97815row8_col0\" class=\"data row8 col0\" >Firestorm</td> \n",
       "        <td id=\"T_0e506dfa_5c52_11ec_97f0_a434d9e97815row8_col1\" class=\"data row8 col1\" >good</td> \n",
       "        <td id=\"T_0e506dfa_5c52_11ec_97f0_a434d9e97815row8_col2\" class=\"data row8 col2\" >50</td> \n",
       "        <td id=\"T_0e506dfa_5c52_11ec_97f0_a434d9e97815row8_col3\" class=\"data row8 col3\" >53</td> \n",
       "        <td id=\"T_0e506dfa_5c52_11ec_97f0_a434d9e97815row8_col4\" class=\"data row8 col4\" >58</td> \n",
       "        <td id=\"T_0e506dfa_5c52_11ec_97f0_a434d9e97815row8_col5\" class=\"data row8 col5\" >56</td> \n",
       "        <td id=\"T_0e506dfa_5c52_11ec_97f0_a434d9e97815row8_col6\" class=\"data row8 col6\" >100</td> \n",
       "        <td id=\"T_0e506dfa_5c52_11ec_97f0_a434d9e97815row8_col7\" class=\"data row8 col7\" >42</td> \n",
       "        <td id=\"T_0e506dfa_5c52_11ec_97f0_a434d9e97815row8_col8\" class=\"data row8 col8\" >359</td> \n",
       "    </tr>    <tr> \n",
       "        <th id=\"T_0e506dfa_5c52_11ec_97f0_a434d9e97815level0_row9\" class=\"row_heading level0 row9\" >251</th> \n",
       "        <td id=\"T_0e506dfa_5c52_11ec_97f0_a434d9e97815row9_col0\" class=\"data row9 col0\" >Goku</td> \n",
       "        <td id=\"T_0e506dfa_5c52_11ec_97f0_a434d9e97815row9_col1\" class=\"data row9 col1\" >good</td> \n",
       "        <td id=\"T_0e506dfa_5c52_11ec_97f0_a434d9e97815row9_col2\" class=\"data row9 col2\" >56</td> \n",
       "        <td id=\"T_0e506dfa_5c52_11ec_97f0_a434d9e97815row9_col3\" class=\"data row9 col3\" >100</td> \n",
       "        <td id=\"T_0e506dfa_5c52_11ec_97f0_a434d9e97815row9_col4\" class=\"data row9 col4\" >75</td> \n",
       "        <td id=\"T_0e506dfa_5c52_11ec_97f0_a434d9e97815row9_col5\" class=\"data row9 col5\" >90</td> \n",
       "        <td id=\"T_0e506dfa_5c52_11ec_97f0_a434d9e97815row9_col6\" class=\"data row9 col6\" >100</td> \n",
       "        <td id=\"T_0e506dfa_5c52_11ec_97f0_a434d9e97815row9_col7\" class=\"data row9 col7\" >100</td> \n",
       "        <td id=\"T_0e506dfa_5c52_11ec_97f0_a434d9e97815row9_col8\" class=\"data row9 col8\" >521</td> \n",
       "    </tr>    <tr> \n",
       "        <th id=\"T_0e506dfa_5c52_11ec_97f0_a434d9e97815level0_row10\" class=\"row_heading level0 row10\" >266</th> \n",
       "        <td id=\"T_0e506dfa_5c52_11ec_97f0_a434d9e97815row10_col0\" class=\"data row10 col0\" >Hal Jordan</td> \n",
       "        <td id=\"T_0e506dfa_5c52_11ec_97f0_a434d9e97815row10_col1\" class=\"data row10 col1\" >good</td> \n",
       "        <td id=\"T_0e506dfa_5c52_11ec_97f0_a434d9e97815row10_col2\" class=\"data row10 col2\" >63</td> \n",
       "        <td id=\"T_0e506dfa_5c52_11ec_97f0_a434d9e97815row10_col3\" class=\"data row10 col3\" >90</td> \n",
       "        <td id=\"T_0e506dfa_5c52_11ec_97f0_a434d9e97815row10_col4\" class=\"data row10 col4\" >53</td> \n",
       "        <td id=\"T_0e506dfa_5c52_11ec_97f0_a434d9e97815row10_col5\" class=\"data row10 col5\" >64</td> \n",
       "        <td id=\"T_0e506dfa_5c52_11ec_97f0_a434d9e97815row10_col6\" class=\"data row10 col6\" >100</td> \n",
       "        <td id=\"T_0e506dfa_5c52_11ec_97f0_a434d9e97815row10_col7\" class=\"data row10 col7\" >56</td> \n",
       "        <td id=\"T_0e506dfa_5c52_11ec_97f0_a434d9e97815row10_col8\" class=\"data row10 col8\" >426</td> \n",
       "    </tr>    <tr> \n",
       "        <th id=\"T_0e506dfa_5c52_11ec_97f0_a434d9e97815level0_row11\" class=\"row_heading level0 row11\" >294</th> \n",
       "        <td id=\"T_0e506dfa_5c52_11ec_97f0_a434d9e97815row11_col0\" class=\"data row11 col0\" >Iceman</td> \n",
       "        <td id=\"T_0e506dfa_5c52_11ec_97f0_a434d9e97815row11_col1\" class=\"data row11 col1\" >good</td> \n",
       "        <td id=\"T_0e506dfa_5c52_11ec_97f0_a434d9e97815row11_col2\" class=\"data row11 col2\" >63</td> \n",
       "        <td id=\"T_0e506dfa_5c52_11ec_97f0_a434d9e97815row11_col3\" class=\"data row11 col3\" >32</td> \n",
       "        <td id=\"T_0e506dfa_5c52_11ec_97f0_a434d9e97815row11_col4\" class=\"data row11 col4\" >53</td> \n",
       "        <td id=\"T_0e506dfa_5c52_11ec_97f0_a434d9e97815row11_col5\" class=\"data row11 col5\" >100</td> \n",
       "        <td id=\"T_0e506dfa_5c52_11ec_97f0_a434d9e97815row11_col6\" class=\"data row11 col6\" >100</td> \n",
       "        <td id=\"T_0e506dfa_5c52_11ec_97f0_a434d9e97815row11_col7\" class=\"data row11 col7\" >64</td> \n",
       "        <td id=\"T_0e506dfa_5c52_11ec_97f0_a434d9e97815row11_col8\" class=\"data row11 col8\" >412</td> \n",
       "    </tr>    <tr> \n",
       "        <th id=\"T_0e506dfa_5c52_11ec_97f0_a434d9e97815level0_row12\" class=\"row_heading level0 row12\" >299</th> \n",
       "        <td id=\"T_0e506dfa_5c52_11ec_97f0_a434d9e97815row12_col0\" class=\"data row12 col0\" >Iron Man</td> \n",
       "        <td id=\"T_0e506dfa_5c52_11ec_97f0_a434d9e97815row12_col1\" class=\"data row12 col1\" >good</td> \n",
       "        <td id=\"T_0e506dfa_5c52_11ec_97f0_a434d9e97815row12_col2\" class=\"data row12 col2\" >100</td> \n",
       "        <td id=\"T_0e506dfa_5c52_11ec_97f0_a434d9e97815row12_col3\" class=\"data row12 col3\" >85</td> \n",
       "        <td id=\"T_0e506dfa_5c52_11ec_97f0_a434d9e97815row12_col4\" class=\"data row12 col4\" >58</td> \n",
       "        <td id=\"T_0e506dfa_5c52_11ec_97f0_a434d9e97815row12_col5\" class=\"data row12 col5\" >85</td> \n",
       "        <td id=\"T_0e506dfa_5c52_11ec_97f0_a434d9e97815row12_col6\" class=\"data row12 col6\" >100</td> \n",
       "        <td id=\"T_0e506dfa_5c52_11ec_97f0_a434d9e97815row12_col7\" class=\"data row12 col7\" >64</td> \n",
       "        <td id=\"T_0e506dfa_5c52_11ec_97f0_a434d9e97815row12_col8\" class=\"data row12 col8\" >492</td> \n",
       "    </tr>    <tr> \n",
       "        <th id=\"T_0e506dfa_5c52_11ec_97f0_a434d9e97815level0_row13\" class=\"row_heading level0 row13\" >306</th> \n",
       "        <td id=\"T_0e506dfa_5c52_11ec_97f0_a434d9e97815row13_col0\" class=\"data row13 col0\" >Jean Grey</td> \n",
       "        <td id=\"T_0e506dfa_5c52_11ec_97f0_a434d9e97815row13_col1\" class=\"data row13 col1\" >good</td> \n",
       "        <td id=\"T_0e506dfa_5c52_11ec_97f0_a434d9e97815row13_col2\" class=\"data row13 col2\" >100</td> \n",
       "        <td id=\"T_0e506dfa_5c52_11ec_97f0_a434d9e97815row13_col3\" class=\"data row13 col3\" >80</td> \n",
       "        <td id=\"T_0e506dfa_5c52_11ec_97f0_a434d9e97815row13_col4\" class=\"data row13 col4\" >67</td> \n",
       "        <td id=\"T_0e506dfa_5c52_11ec_97f0_a434d9e97815row13_col5\" class=\"data row13 col5\" >100</td> \n",
       "        <td id=\"T_0e506dfa_5c52_11ec_97f0_a434d9e97815row13_col6\" class=\"data row13 col6\" >100</td> \n",
       "        <td id=\"T_0e506dfa_5c52_11ec_97f0_a434d9e97815row13_col7\" class=\"data row13 col7\" >70</td> \n",
       "        <td id=\"T_0e506dfa_5c52_11ec_97f0_a434d9e97815row13_col8\" class=\"data row13 col8\" >517</td> \n",
       "    </tr>    <tr> \n",
       "        <th id=\"T_0e506dfa_5c52_11ec_97f0_a434d9e97815level0_row14\" class=\"row_heading level0 row14\" >327</th> \n",
       "        <td id=\"T_0e506dfa_5c52_11ec_97f0_a434d9e97815row14_col0\" class=\"data row14 col0\" >Kilowog</td> \n",
       "        <td id=\"T_0e506dfa_5c52_11ec_97f0_a434d9e97815row14_col1\" class=\"data row14 col1\" >good</td> \n",
       "        <td id=\"T_0e506dfa_5c52_11ec_97f0_a434d9e97815row14_col2\" class=\"data row14 col2\" >81</td> \n",
       "        <td id=\"T_0e506dfa_5c52_11ec_97f0_a434d9e97815row14_col3\" class=\"data row14 col3\" >90</td> \n",
       "        <td id=\"T_0e506dfa_5c52_11ec_97f0_a434d9e97815row14_col4\" class=\"data row14 col4\" >53</td> \n",
       "        <td id=\"T_0e506dfa_5c52_11ec_97f0_a434d9e97815row14_col5\" class=\"data row14 col5\" >42</td> \n",
       "        <td id=\"T_0e506dfa_5c52_11ec_97f0_a434d9e97815row14_col6\" class=\"data row14 col6\" >100</td> \n",
       "        <td id=\"T_0e506dfa_5c52_11ec_97f0_a434d9e97815row14_col7\" class=\"data row14 col7\" >80</td> \n",
       "        <td id=\"T_0e506dfa_5c52_11ec_97f0_a434d9e97815row14_col8\" class=\"data row14 col8\" >446</td> \n",
       "    </tr>    <tr> \n",
       "        <th id=\"T_0e506dfa_5c52_11ec_97f0_a434d9e97815level0_row15\" class=\"row_heading level0 row15\" >361</th> \n",
       "        <td id=\"T_0e506dfa_5c52_11ec_97f0_a434d9e97815row15_col0\" class=\"data row15 col0\" >Martian Manhunter</td> \n",
       "        <td id=\"T_0e506dfa_5c52_11ec_97f0_a434d9e97815row15_col1\" class=\"data row15 col1\" >good</td> \n",
       "        <td id=\"T_0e506dfa_5c52_11ec_97f0_a434d9e97815row15_col2\" class=\"data row15 col2\" >100</td> \n",
       "        <td id=\"T_0e506dfa_5c52_11ec_97f0_a434d9e97815row15_col3\" class=\"data row15 col3\" >100</td> \n",
       "        <td id=\"T_0e506dfa_5c52_11ec_97f0_a434d9e97815row15_col4\" class=\"data row15 col4\" >96</td> \n",
       "        <td id=\"T_0e506dfa_5c52_11ec_97f0_a434d9e97815row15_col5\" class=\"data row15 col5\" >100</td> \n",
       "        <td id=\"T_0e506dfa_5c52_11ec_97f0_a434d9e97815row15_col6\" class=\"data row15 col6\" >100</td> \n",
       "        <td id=\"T_0e506dfa_5c52_11ec_97f0_a434d9e97815row15_col7\" class=\"data row15 col7\" >85</td> \n",
       "        <td id=\"T_0e506dfa_5c52_11ec_97f0_a434d9e97815row15_col8\" class=\"data row15 col8\" >581</td> \n",
       "    </tr>    <tr> \n",
       "        <th id=\"T_0e506dfa_5c52_11ec_97f0_a434d9e97815level0_row16\" class=\"row_heading level0 row16\" >362</th> \n",
       "        <td id=\"T_0e506dfa_5c52_11ec_97f0_a434d9e97815row16_col0\" class=\"data row16 col0\" >Marvel Girl</td> \n",
       "        <td id=\"T_0e506dfa_5c52_11ec_97f0_a434d9e97815row16_col1\" class=\"data row16 col1\" >good</td> \n",
       "        <td id=\"T_0e506dfa_5c52_11ec_97f0_a434d9e97815row16_col2\" class=\"data row16 col2\" >63</td> \n",
       "        <td id=\"T_0e506dfa_5c52_11ec_97f0_a434d9e97815row16_col3\" class=\"data row16 col3\" >85</td> \n",
       "        <td id=\"T_0e506dfa_5c52_11ec_97f0_a434d9e97815row16_col4\" class=\"data row16 col4\" >47</td> \n",
       "        <td id=\"T_0e506dfa_5c52_11ec_97f0_a434d9e97815row16_col5\" class=\"data row16 col5\" >42</td> \n",
       "        <td id=\"T_0e506dfa_5c52_11ec_97f0_a434d9e97815row16_col6\" class=\"data row16 col6\" >100</td> \n",
       "        <td id=\"T_0e506dfa_5c52_11ec_97f0_a434d9e97815row16_col7\" class=\"data row16 col7\" >80</td> \n",
       "        <td id=\"T_0e506dfa_5c52_11ec_97f0_a434d9e97815row16_col8\" class=\"data row16 col8\" >417</td> \n",
       "    </tr>    <tr> \n",
       "        <th id=\"T_0e506dfa_5c52_11ec_97f0_a434d9e97815level0_row17\" class=\"row_heading level0 row17\" >383</th> \n",
       "        <td id=\"T_0e506dfa_5c52_11ec_97f0_a434d9e97815row17_col0\" class=\"data row17 col0\" >Miss Martian</td> \n",
       "        <td id=\"T_0e506dfa_5c52_11ec_97f0_a434d9e97815row17_col1\" class=\"data row17 col1\" >good</td> \n",
       "        <td id=\"T_0e506dfa_5c52_11ec_97f0_a434d9e97815row17_col2\" class=\"data row17 col2\" >63</td> \n",
       "        <td id=\"T_0e506dfa_5c52_11ec_97f0_a434d9e97815row17_col3\" class=\"data row17 col3\" >85</td> \n",
       "        <td id=\"T_0e506dfa_5c52_11ec_97f0_a434d9e97815row17_col4\" class=\"data row17 col4\" >58</td> \n",
       "        <td id=\"T_0e506dfa_5c52_11ec_97f0_a434d9e97815row17_col5\" class=\"data row17 col5\" >100</td> \n",
       "        <td id=\"T_0e506dfa_5c52_11ec_97f0_a434d9e97815row17_col6\" class=\"data row17 col6\" >100</td> \n",
       "        <td id=\"T_0e506dfa_5c52_11ec_97f0_a434d9e97815row17_col7\" class=\"data row17 col7\" >45</td> \n",
       "        <td id=\"T_0e506dfa_5c52_11ec_97f0_a434d9e97815row17_col8\" class=\"data row17 col8\" >451</td> \n",
       "    </tr>    <tr> \n",
       "        <th id=\"T_0e506dfa_5c52_11ec_97f0_a434d9e97815level0_row18\" class=\"row_heading level0 row18\" >408</th> \n",
       "        <td id=\"T_0e506dfa_5c52_11ec_97f0_a434d9e97815row18_col0\" class=\"data row18 col0\" >Naruto Uzumaki</td> \n",
       "        <td id=\"T_0e506dfa_5c52_11ec_97f0_a434d9e97815row18_col1\" class=\"data row18 col1\" >good</td> \n",
       "        <td id=\"T_0e506dfa_5c52_11ec_97f0_a434d9e97815row18_col2\" class=\"data row18 col2\" >50</td> \n",
       "        <td id=\"T_0e506dfa_5c52_11ec_97f0_a434d9e97815row18_col3\" class=\"data row18 col3\" >80</td> \n",
       "        <td id=\"T_0e506dfa_5c52_11ec_97f0_a434d9e97815row18_col4\" class=\"data row18 col4\" >32</td> \n",
       "        <td id=\"T_0e506dfa_5c52_11ec_97f0_a434d9e97815row18_col5\" class=\"data row18 col5\" >80</td> \n",
       "        <td id=\"T_0e506dfa_5c52_11ec_97f0_a434d9e97815row18_col6\" class=\"data row18 col6\" >100</td> \n",
       "        <td id=\"T_0e506dfa_5c52_11ec_97f0_a434d9e97815row18_col7\" class=\"data row18 col7\" >100</td> \n",
       "        <td id=\"T_0e506dfa_5c52_11ec_97f0_a434d9e97815row18_col8\" class=\"data row18 col8\" >442</td> \n",
       "    </tr>    <tr> \n",
       "        <th id=\"T_0e506dfa_5c52_11ec_97f0_a434d9e97815level0_row19\" class=\"row_heading level0 row19\" >417</th> \n",
       "        <td id=\"T_0e506dfa_5c52_11ec_97f0_a434d9e97815row19_col0\" class=\"data row19 col0\" >Nova</td> \n",
       "        <td id=\"T_0e506dfa_5c52_11ec_97f0_a434d9e97815row19_col1\" class=\"data row19 col1\" >good</td> \n",
       "        <td id=\"T_0e506dfa_5c52_11ec_97f0_a434d9e97815row19_col2\" class=\"data row19 col2\" >100</td> \n",
       "        <td id=\"T_0e506dfa_5c52_11ec_97f0_a434d9e97815row19_col3\" class=\"data row19 col3\" >85</td> \n",
       "        <td id=\"T_0e506dfa_5c52_11ec_97f0_a434d9e97815row19_col4\" class=\"data row19 col4\" >67</td> \n",
       "        <td id=\"T_0e506dfa_5c52_11ec_97f0_a434d9e97815row19_col5\" class=\"data row19 col5\" >101</td> \n",
       "        <td id=\"T_0e506dfa_5c52_11ec_97f0_a434d9e97815row19_col6\" class=\"data row19 col6\" >100</td> \n",
       "        <td id=\"T_0e506dfa_5c52_11ec_97f0_a434d9e97815row19_col7\" class=\"data row19 col7\" >85</td> \n",
       "        <td id=\"T_0e506dfa_5c52_11ec_97f0_a434d9e97815row19_col8\" class=\"data row19 col8\" >538</td> \n",
       "    </tr>    <tr> \n",
       "        <th id=\"T_0e506dfa_5c52_11ec_97f0_a434d9e97815level0_row20\" class=\"row_heading level0 row20\" >418</th> \n",
       "        <td id=\"T_0e506dfa_5c52_11ec_97f0_a434d9e97815row20_col0\" class=\"data row20 col0\" >Nova</td> \n",
       "        <td id=\"T_0e506dfa_5c52_11ec_97f0_a434d9e97815row20_col1\" class=\"data row20 col1\" >good</td> \n",
       "        <td id=\"T_0e506dfa_5c52_11ec_97f0_a434d9e97815row20_col2\" class=\"data row20 col2\" >38</td> \n",
       "        <td id=\"T_0e506dfa_5c52_11ec_97f0_a434d9e97815row20_col3\" class=\"data row20 col3\" >60</td> \n",
       "        <td id=\"T_0e506dfa_5c52_11ec_97f0_a434d9e97815row20_col4\" class=\"data row20 col4\" >100</td> \n",
       "        <td id=\"T_0e506dfa_5c52_11ec_97f0_a434d9e97815row20_col5\" class=\"data row20 col5\" >100</td> \n",
       "        <td id=\"T_0e506dfa_5c52_11ec_97f0_a434d9e97815row20_col6\" class=\"data row20 col6\" >100</td> \n",
       "        <td id=\"T_0e506dfa_5c52_11ec_97f0_a434d9e97815row20_col7\" class=\"data row20 col7\" >25</td> \n",
       "        <td id=\"T_0e506dfa_5c52_11ec_97f0_a434d9e97815row20_col8\" class=\"data row20 col8\" >423</td> \n",
       "    </tr>    <tr> \n",
       "        <th id=\"T_0e506dfa_5c52_11ec_97f0_a434d9e97815level0_row21\" class=\"row_heading level0 row21\" >419</th> \n",
       "        <td id=\"T_0e506dfa_5c52_11ec_97f0_a434d9e97815row21_col0\" class=\"data row21 col0\" >Offspring</td> \n",
       "        <td id=\"T_0e506dfa_5c52_11ec_97f0_a434d9e97815row21_col1\" class=\"data row21 col1\" >good</td> \n",
       "        <td id=\"T_0e506dfa_5c52_11ec_97f0_a434d9e97815row21_col2\" class=\"data row21 col2\" >50</td> \n",
       "        <td id=\"T_0e506dfa_5c52_11ec_97f0_a434d9e97815row21_col3\" class=\"data row21 col3\" >10</td> \n",
       "        <td id=\"T_0e506dfa_5c52_11ec_97f0_a434d9e97815row21_col4\" class=\"data row21 col4\" >35</td> \n",
       "        <td id=\"T_0e506dfa_5c52_11ec_97f0_a434d9e97815row21_col5\" class=\"data row21 col5\" >99</td> \n",
       "        <td id=\"T_0e506dfa_5c52_11ec_97f0_a434d9e97815row21_col6\" class=\"data row21 col6\" >100</td> \n",
       "        <td id=\"T_0e506dfa_5c52_11ec_97f0_a434d9e97815row21_col7\" class=\"data row21 col7\" >56</td> \n",
       "        <td id=\"T_0e506dfa_5c52_11ec_97f0_a434d9e97815row21_col8\" class=\"data row21 col8\" >350</td> \n",
       "    </tr>    <tr> \n",
       "        <th id=\"T_0e506dfa_5c52_11ec_97f0_a434d9e97815level0_row22\" class=\"row_heading level0 row22\" >433</th> \n",
       "        <td id=\"T_0e506dfa_5c52_11ec_97f0_a434d9e97815row22_col0\" class=\"data row22 col0\" >Phoenix</td> \n",
       "        <td id=\"T_0e506dfa_5c52_11ec_97f0_a434d9e97815row22_col1\" class=\"data row22 col1\" >good</td> \n",
       "        <td id=\"T_0e506dfa_5c52_11ec_97f0_a434d9e97815row22_col2\" class=\"data row22 col2\" >100</td> \n",
       "        <td id=\"T_0e506dfa_5c52_11ec_97f0_a434d9e97815row22_col3\" class=\"data row22 col3\" >80</td> \n",
       "        <td id=\"T_0e506dfa_5c52_11ec_97f0_a434d9e97815row22_col4\" class=\"data row22 col4\" >67</td> \n",
       "        <td id=\"T_0e506dfa_5c52_11ec_97f0_a434d9e97815row22_col5\" class=\"data row22 col5\" >100</td> \n",
       "        <td id=\"T_0e506dfa_5c52_11ec_97f0_a434d9e97815row22_col6\" class=\"data row22 col6\" >100</td> \n",
       "        <td id=\"T_0e506dfa_5c52_11ec_97f0_a434d9e97815row22_col7\" class=\"data row22 col7\" >70</td> \n",
       "        <td id=\"T_0e506dfa_5c52_11ec_97f0_a434d9e97815row22_col8\" class=\"data row22 col8\" >517</td> \n",
       "    </tr>    <tr> \n",
       "        <th id=\"T_0e506dfa_5c52_11ec_97f0_a434d9e97815level0_row23\" class=\"row_heading level0 row23\" >435</th> \n",
       "        <td id=\"T_0e506dfa_5c52_11ec_97f0_a434d9e97815row23_col0\" class=\"data row23 col0\" >Plastic Man</td> \n",
       "        <td id=\"T_0e506dfa_5c52_11ec_97f0_a434d9e97815row23_col1\" class=\"data row23 col1\" >good</td> \n",
       "        <td id=\"T_0e506dfa_5c52_11ec_97f0_a434d9e97815row23_col2\" class=\"data row23 col2\" >50</td> \n",
       "        <td id=\"T_0e506dfa_5c52_11ec_97f0_a434d9e97815row23_col3\" class=\"data row23 col3\" >63</td> \n",
       "        <td id=\"T_0e506dfa_5c52_11ec_97f0_a434d9e97815row23_col4\" class=\"data row23 col4\" >23</td> \n",
       "        <td id=\"T_0e506dfa_5c52_11ec_97f0_a434d9e97815row23_col5\" class=\"data row23 col5\" >100</td> \n",
       "        <td id=\"T_0e506dfa_5c52_11ec_97f0_a434d9e97815row23_col6\" class=\"data row23 col6\" >100</td> \n",
       "        <td id=\"T_0e506dfa_5c52_11ec_97f0_a434d9e97815row23_col7\" class=\"data row23 col7\" >56</td> \n",
       "        <td id=\"T_0e506dfa_5c52_11ec_97f0_a434d9e97815row23_col8\" class=\"data row23 col8\" >392</td> \n",
       "    </tr>    <tr> \n",
       "        <th id=\"T_0e506dfa_5c52_11ec_97f0_a434d9e97815level0_row24\" class=\"row_heading level0 row24\" >487</th> \n",
       "        <td id=\"T_0e506dfa_5c52_11ec_97f0_a434d9e97815row24_col0\" class=\"data row24 col0\" >Shadow King</td> \n",
       "        <td id=\"T_0e506dfa_5c52_11ec_97f0_a434d9e97815row24_col1\" class=\"data row24 col1\" >good</td> \n",
       "        <td id=\"T_0e506dfa_5c52_11ec_97f0_a434d9e97815row24_col2\" class=\"data row24 col2\" >75</td> \n",
       "        <td id=\"T_0e506dfa_5c52_11ec_97f0_a434d9e97815row24_col3\" class=\"data row24 col3\" >12</td> \n",
       "        <td id=\"T_0e506dfa_5c52_11ec_97f0_a434d9e97815row24_col4\" class=\"data row24 col4\" >27</td> \n",
       "        <td id=\"T_0e506dfa_5c52_11ec_97f0_a434d9e97815row24_col5\" class=\"data row24 col5\" >100</td> \n",
       "        <td id=\"T_0e506dfa_5c52_11ec_97f0_a434d9e97815row24_col6\" class=\"data row24 col6\" >100</td> \n",
       "        <td id=\"T_0e506dfa_5c52_11ec_97f0_a434d9e97815row24_col7\" class=\"data row24 col7\" >75</td> \n",
       "        <td id=\"T_0e506dfa_5c52_11ec_97f0_a434d9e97815row24_col8\" class=\"data row24 col8\" >389</td> \n",
       "    </tr>    <tr> \n",
       "        <th id=\"T_0e506dfa_5c52_11ec_97f0_a434d9e97815level0_row25\" class=\"row_heading level0 row25\" >499</th> \n",
       "        <td id=\"T_0e506dfa_5c52_11ec_97f0_a434d9e97815row25_col0\" class=\"data row25 col0\" >Silver Surfer</td> \n",
       "        <td id=\"T_0e506dfa_5c52_11ec_97f0_a434d9e97815row25_col1\" class=\"data row25 col1\" >good</td> \n",
       "        <td id=\"T_0e506dfa_5c52_11ec_97f0_a434d9e97815row25_col2\" class=\"data row25 col2\" >63</td> \n",
       "        <td id=\"T_0e506dfa_5c52_11ec_97f0_a434d9e97815row25_col3\" class=\"data row25 col3\" >100</td> \n",
       "        <td id=\"T_0e506dfa_5c52_11ec_97f0_a434d9e97815row25_col4\" class=\"data row25 col4\" >84</td> \n",
       "        <td id=\"T_0e506dfa_5c52_11ec_97f0_a434d9e97815row25_col5\" class=\"data row25 col5\" >101</td> \n",
       "        <td id=\"T_0e506dfa_5c52_11ec_97f0_a434d9e97815row25_col6\" class=\"data row25 col6\" >100</td> \n",
       "        <td id=\"T_0e506dfa_5c52_11ec_97f0_a434d9e97815row25_col7\" class=\"data row25 col7\" >32</td> \n",
       "        <td id=\"T_0e506dfa_5c52_11ec_97f0_a434d9e97815row25_col8\" class=\"data row25 col8\" >480</td> \n",
       "    </tr>    <tr> \n",
       "        <th id=\"T_0e506dfa_5c52_11ec_97f0_a434d9e97815level0_row26\" class=\"row_heading level0 row26\" >511</th> \n",
       "        <td id=\"T_0e506dfa_5c52_11ec_97f0_a434d9e97815row26_col0\" class=\"data row26 col0\" >Spawn</td> \n",
       "        <td id=\"T_0e506dfa_5c52_11ec_97f0_a434d9e97815row26_col1\" class=\"data row26 col1\" >good</td> \n",
       "        <td id=\"T_0e506dfa_5c52_11ec_97f0_a434d9e97815row26_col2\" class=\"data row26 col2\" >75</td> \n",
       "        <td id=\"T_0e506dfa_5c52_11ec_97f0_a434d9e97815row26_col3\" class=\"data row26 col3\" >60</td> \n",
       "        <td id=\"T_0e506dfa_5c52_11ec_97f0_a434d9e97815row26_col4\" class=\"data row26 col4\" >50</td> \n",
       "        <td id=\"T_0e506dfa_5c52_11ec_97f0_a434d9e97815row26_col5\" class=\"data row26 col5\" >90</td> \n",
       "        <td id=\"T_0e506dfa_5c52_11ec_97f0_a434d9e97815row26_col6\" class=\"data row26 col6\" >100</td> \n",
       "        <td id=\"T_0e506dfa_5c52_11ec_97f0_a434d9e97815row26_col7\" class=\"data row26 col7\" >95</td> \n",
       "        <td id=\"T_0e506dfa_5c52_11ec_97f0_a434d9e97815row26_col8\" class=\"data row26 col8\" >470</td> \n",
       "    </tr>    <tr> \n",
       "        <th id=\"T_0e506dfa_5c52_11ec_97f0_a434d9e97815level0_row27\" class=\"row_heading level0 row27\" >525</th> \n",
       "        <td id=\"T_0e506dfa_5c52_11ec_97f0_a434d9e97815row27_col0\" class=\"data row27 col0\" >Stardust</td> \n",
       "        <td id=\"T_0e506dfa_5c52_11ec_97f0_a434d9e97815row27_col1\" class=\"data row27 col1\" >good</td> \n",
       "        <td id=\"T_0e506dfa_5c52_11ec_97f0_a434d9e97815row27_col2\" class=\"data row27 col2\" >88</td> \n",
       "        <td id=\"T_0e506dfa_5c52_11ec_97f0_a434d9e97815row27_col3\" class=\"data row27 col3\" >85</td> \n",
       "        <td id=\"T_0e506dfa_5c52_11ec_97f0_a434d9e97815row27_col4\" class=\"data row27 col4\" >100</td> \n",
       "        <td id=\"T_0e506dfa_5c52_11ec_97f0_a434d9e97815row27_col5\" class=\"data row27 col5\" >110</td> \n",
       "        <td id=\"T_0e506dfa_5c52_11ec_97f0_a434d9e97815row27_col6\" class=\"data row27 col6\" >100</td> \n",
       "        <td id=\"T_0e506dfa_5c52_11ec_97f0_a434d9e97815row27_col7\" class=\"data row27 col7\" >85</td> \n",
       "        <td id=\"T_0e506dfa_5c52_11ec_97f0_a434d9e97815row27_col8\" class=\"data row27 col8\" >568</td> \n",
       "    </tr>    <tr> \n",
       "        <th id=\"T_0e506dfa_5c52_11ec_97f0_a434d9e97815level0_row28\" class=\"row_heading level0 row28\" >546</th> \n",
       "        <td id=\"T_0e506dfa_5c52_11ec_97f0_a434d9e97815row28_col0\" class=\"data row28 col0\" >Thor</td> \n",
       "        <td id=\"T_0e506dfa_5c52_11ec_97f0_a434d9e97815row28_col1\" class=\"data row28 col1\" >good</td> \n",
       "        <td id=\"T_0e506dfa_5c52_11ec_97f0_a434d9e97815row28_col2\" class=\"data row28 col2\" >69</td> \n",
       "        <td id=\"T_0e506dfa_5c52_11ec_97f0_a434d9e97815row28_col3\" class=\"data row28 col3\" >100</td> \n",
       "        <td id=\"T_0e506dfa_5c52_11ec_97f0_a434d9e97815row28_col4\" class=\"data row28 col4\" >92</td> \n",
       "        <td id=\"T_0e506dfa_5c52_11ec_97f0_a434d9e97815row28_col5\" class=\"data row28 col5\" >100</td> \n",
       "        <td id=\"T_0e506dfa_5c52_11ec_97f0_a434d9e97815row28_col6\" class=\"data row28 col6\" >100</td> \n",
       "        <td id=\"T_0e506dfa_5c52_11ec_97f0_a434d9e97815row28_col7\" class=\"data row28 col7\" >85</td> \n",
       "        <td id=\"T_0e506dfa_5c52_11ec_97f0_a434d9e97815row28_col8\" class=\"data row28 col8\" >546</td> \n",
       "    </tr>    <tr> \n",
       "        <th id=\"T_0e506dfa_5c52_11ec_97f0_a434d9e97815level0_row29\" class=\"row_heading level0 row29\" >547</th> \n",
       "        <td id=\"T_0e506dfa_5c52_11ec_97f0_a434d9e97815row29_col0\" class=\"data row29 col0\" >Thor Girl</td> \n",
       "        <td id=\"T_0e506dfa_5c52_11ec_97f0_a434d9e97815row29_col1\" class=\"data row29 col1\" >good</td> \n",
       "        <td id=\"T_0e506dfa_5c52_11ec_97f0_a434d9e97815row29_col2\" class=\"data row29 col2\" >75</td> \n",
       "        <td id=\"T_0e506dfa_5c52_11ec_97f0_a434d9e97815row29_col3\" class=\"data row29 col3\" >83</td> \n",
       "        <td id=\"T_0e506dfa_5c52_11ec_97f0_a434d9e97815row29_col4\" class=\"data row29 col4\" >70</td> \n",
       "        <td id=\"T_0e506dfa_5c52_11ec_97f0_a434d9e97815row29_col5\" class=\"data row29 col5\" >84</td> \n",
       "        <td id=\"T_0e506dfa_5c52_11ec_97f0_a434d9e97815row29_col6\" class=\"data row29 col6\" >100</td> \n",
       "        <td id=\"T_0e506dfa_5c52_11ec_97f0_a434d9e97815row29_col7\" class=\"data row29 col7\" >70</td> \n",
       "        <td id=\"T_0e506dfa_5c52_11ec_97f0_a434d9e97815row29_col8\" class=\"data row29 col8\" >482</td> \n",
       "    </tr>    <tr> \n",
       "        <th id=\"T_0e506dfa_5c52_11ec_97f0_a434d9e97815level0_row30\" class=\"row_heading level0 row30\" >583</th> \n",
       "        <td id=\"T_0e506dfa_5c52_11ec_97f0_a434d9e97815row30_col0\" class=\"data row30 col0\" >War Machine</td> \n",
       "        <td id=\"T_0e506dfa_5c52_11ec_97f0_a434d9e97815row30_col1\" class=\"data row30 col1\" >good</td> \n",
       "        <td id=\"T_0e506dfa_5c52_11ec_97f0_a434d9e97815row30_col2\" class=\"data row30 col2\" >63</td> \n",
       "        <td id=\"T_0e506dfa_5c52_11ec_97f0_a434d9e97815row30_col3\" class=\"data row30 col3\" >80</td> \n",
       "        <td id=\"T_0e506dfa_5c52_11ec_97f0_a434d9e97815row30_col4\" class=\"data row30 col4\" >63</td> \n",
       "        <td id=\"T_0e506dfa_5c52_11ec_97f0_a434d9e97815row30_col5\" class=\"data row30 col5\" >100</td> \n",
       "        <td id=\"T_0e506dfa_5c52_11ec_97f0_a434d9e97815row30_col6\" class=\"data row30 col6\" >100</td> \n",
       "        <td id=\"T_0e506dfa_5c52_11ec_97f0_a434d9e97815row30_col7\" class=\"data row30 col7\" >85</td> \n",
       "        <td id=\"T_0e506dfa_5c52_11ec_97f0_a434d9e97815row30_col8\" class=\"data row30 col8\" >491</td> \n",
       "    </tr>    <tr> \n",
       "        <th id=\"T_0e506dfa_5c52_11ec_97f0_a434d9e97815level0_row31\" class=\"row_heading level0 row31\" >589</th> \n",
       "        <td id=\"T_0e506dfa_5c52_11ec_97f0_a434d9e97815row31_col0\" class=\"data row31 col0\" >Watcher</td> \n",
       "        <td id=\"T_0e506dfa_5c52_11ec_97f0_a434d9e97815row31_col1\" class=\"data row31 col1\" >good</td> \n",
       "        <td id=\"T_0e506dfa_5c52_11ec_97f0_a434d9e97815row31_col2\" class=\"data row31 col2\" >100</td> \n",
       "        <td id=\"T_0e506dfa_5c52_11ec_97f0_a434d9e97815row31_col3\" class=\"data row31 col3\" >80</td> \n",
       "        <td id=\"T_0e506dfa_5c52_11ec_97f0_a434d9e97815row31_col4\" class=\"data row31 col4\" >67</td> \n",
       "        <td id=\"T_0e506dfa_5c52_11ec_97f0_a434d9e97815row31_col5\" class=\"data row31 col5\" >89</td> \n",
       "        <td id=\"T_0e506dfa_5c52_11ec_97f0_a434d9e97815row31_col6\" class=\"data row31 col6\" >100</td> \n",
       "        <td id=\"T_0e506dfa_5c52_11ec_97f0_a434d9e97815row31_col7\" class=\"data row31 col7\" >56</td> \n",
       "        <td id=\"T_0e506dfa_5c52_11ec_97f0_a434d9e97815row31_col8\" class=\"data row31 col8\" >492</td> \n",
       "    </tr>    <tr> \n",
       "        <th id=\"T_0e506dfa_5c52_11ec_97f0_a434d9e97815level0_row32\" class=\"row_heading level0 row32\" >609</th> \n",
       "        <td id=\"T_0e506dfa_5c52_11ec_97f0_a434d9e97815row32_col0\" class=\"data row32 col0\" >Zatanna</td> \n",
       "        <td id=\"T_0e506dfa_5c52_11ec_97f0_a434d9e97815row32_col1\" class=\"data row32 col1\" >good</td> \n",
       "        <td id=\"T_0e506dfa_5c52_11ec_97f0_a434d9e97815row32_col2\" class=\"data row32 col2\" >75</td> \n",
       "        <td id=\"T_0e506dfa_5c52_11ec_97f0_a434d9e97815row32_col3\" class=\"data row32 col3\" >10</td> \n",
       "        <td id=\"T_0e506dfa_5c52_11ec_97f0_a434d9e97815row32_col4\" class=\"data row32 col4\" >23</td> \n",
       "        <td id=\"T_0e506dfa_5c52_11ec_97f0_a434d9e97815row32_col5\" class=\"data row32 col5\" >28</td> \n",
       "        <td id=\"T_0e506dfa_5c52_11ec_97f0_a434d9e97815row32_col6\" class=\"data row32 col6\" >100</td> \n",
       "        <td id=\"T_0e506dfa_5c52_11ec_97f0_a434d9e97815row32_col7\" class=\"data row32 col7\" >56</td> \n",
       "        <td id=\"T_0e506dfa_5c52_11ec_97f0_a434d9e97815row32_col8\" class=\"data row32 col8\" >292</td> \n",
       "    </tr></tbody> \n",
       "</table> "
      ],
      "text/plain": [
       "<pandas.io.formats.style.Styler at 0x1c9c42a8b70>"
      ]
     },
     "execution_count": 29,
     "metadata": {},
     "output_type": "execute_result"
    }
   ],
   "source": [
    "heroes_max_power = heroes[heroes['Power'] == 100]\n",
    "heroes_max_power.style"
   ]
  },
  {
   "cell_type": "markdown",
   "metadata": {},
   "source": [
    "Let's get the `Total` attribute of the top 5 strongest heroes."
   ]
  },
  {
   "cell_type": "code",
   "execution_count": 18,
   "metadata": {},
   "outputs": [
    {
     "data": {
      "text/html": [
       "<div>\n",
       "<style scoped>\n",
       "    .dataframe tbody tr th:only-of-type {\n",
       "        vertical-align: middle;\n",
       "    }\n",
       "\n",
       "    .dataframe tbody tr th {\n",
       "        vertical-align: top;\n",
       "    }\n",
       "\n",
       "    .dataframe thead th {\n",
       "        text-align: right;\n",
       "    }\n",
       "</style>\n",
       "<table border=\"1\" class=\"dataframe\">\n",
       "  <thead>\n",
       "    <tr style=\"text-align: right;\">\n",
       "      <th></th>\n",
       "      <th>Name</th>\n",
       "      <th>Total</th>\n",
       "    </tr>\n",
       "  </thead>\n",
       "  <tbody>\n",
       "    <tr>\n",
       "      <th>69</th>\n",
       "      <td>Beta Ray Bill</td>\n",
       "      <td>457</td>\n",
       "    </tr>\n",
       "    <tr>\n",
       "      <th>70</th>\n",
       "      <td>Beyonder</td>\n",
       "      <td>467</td>\n",
       "    </tr>\n",
       "    <tr>\n",
       "      <th>85</th>\n",
       "      <td>Black Bolt</td>\n",
       "      <td>482</td>\n",
       "    </tr>\n",
       "    <tr>\n",
       "      <th>129</th>\n",
       "      <td>Cable</td>\n",
       "      <td>395</td>\n",
       "    </tr>\n",
       "    <tr>\n",
       "      <th>185</th>\n",
       "      <td>Deadman</td>\n",
       "      <td>335</td>\n",
       "    </tr>\n",
       "  </tbody>\n",
       "</table>\n",
       "</div>"
      ],
      "text/plain": [
       "              Name  Total\n",
       "69   Beta Ray Bill    457\n",
       "70        Beyonder    467\n",
       "85      Black Bolt    482\n",
       "129          Cable    395\n",
       "185        Deadman    335"
      ]
     },
     "execution_count": 18,
     "metadata": {},
     "output_type": "execute_result"
    }
   ],
   "source": [
    "strongest_heroes[['Name','Total']]"
   ]
  },
  {
   "cell_type": "markdown",
   "metadata": {},
   "source": [
    "## Visualizations\n",
    "\n",
    "Python notebooks have useful methods for creating graphs and plots. Let's make a simple bar plot \n",
    "of the top 5 most powerful heroes we just found."
   ]
  },
  {
   "cell_type": "code",
   "execution_count": 20,
   "metadata": {},
   "outputs": [
    {
     "data": {
      "text/plain": [
       "<matplotlib.axes._subplots.AxesSubplot at 0x1c9c42d1470>"
      ]
     },
     "execution_count": 20,
     "metadata": {},
     "output_type": "execute_result"
    },
    {
     "data": {
      "text/plain": [
       "<Figure size 432x288 with 0 Axes>"
      ]
     },
     "metadata": {},
     "output_type": "display_data"
    },
    {
     "data": {
      "image/png": "[encoded data removed]",
      "text/plain": [
       "<Figure size 432x288 with 1 Axes>"
      ]
     },
     "metadata": {
      "needs_background": "light"
     },
     "output_type": "display_data"
    }
   ],
   "source": [
    "import matplotlib.pyplot as plt\n",
    "\n",
    "plt.figure() # sets up the canvas\n",
    "\n",
    "strongest_heroes.plot.bar(x='Name', y='Total', color='green')"
   ]
  },
  {
   "cell_type": "markdown",
   "metadata": {},
   "source": [
    "After working with the heroes, let's do some analysis on the villains. \n",
    "We start by finding all characters with the `bad` Alignment."
   ]
  },
  {
   "cell_type": "code",
   "execution_count": 23,
   "metadata": {},
   "outputs": [
    {
     "data": {
      "text/html": [
       "<style  type=\"text/css\" >\n",
       "</style>  \n",
       "<table id=\"T_0eabb8b8_5c4e_11ec_a825_a434d9e97815\" > \n",
       "<thead>    <tr> \n",
       "        <th class=\"blank level0\" ></th> \n",
       "        <th class=\"col_heading level0 col0\" >Name</th> \n",
       "        <th class=\"col_heading level0 col1\" >Alignment</th> \n",
       "        <th class=\"col_heading level0 col2\" >Intelligence</th> \n",
       "        <th class=\"col_heading level0 col3\" >Strength</th> \n",
       "        <th class=\"col_heading level0 col4\" >Speed</th> \n",
       "        <th class=\"col_heading level0 col5\" >Durability</th> \n",
       "        <th class=\"col_heading level0 col6\" >Power</th> \n",
       "        <th class=\"col_heading level0 col7\" >Combat</th> \n",
       "        <th class=\"col_heading level0 col8\" >Total</th> \n",
       "    </tr></thead> \n",
       "<tbody>    <tr> \n",
       "        <th id=\"T_0eabb8b8_5c4e_11ec_a825_a434d9e97815level0_row0\" class=\"row_heading level0 row0\" >4</th> \n",
       "        <td id=\"T_0eabb8b8_5c4e_11ec_a825_a434d9e97815row0_col0\" class=\"data row0 col0\" >Abomination</td> \n",
       "        <td id=\"T_0eabb8b8_5c4e_11ec_a825_a434d9e97815row0_col1\" class=\"data row0 col1\" >bad</td> \n",
       "        <td id=\"T_0eabb8b8_5c4e_11ec_a825_a434d9e97815row0_col2\" class=\"data row0 col2\" >63</td> \n",
       "        <td id=\"T_0eabb8b8_5c4e_11ec_a825_a434d9e97815row0_col3\" class=\"data row0 col3\" >80</td> \n",
       "        <td id=\"T_0eabb8b8_5c4e_11ec_a825_a434d9e97815row0_col4\" class=\"data row0 col4\" >53</td> \n",
       "        <td id=\"T_0eabb8b8_5c4e_11ec_a825_a434d9e97815row0_col5\" class=\"data row0 col5\" >90</td> \n",
       "        <td id=\"T_0eabb8b8_5c4e_11ec_a825_a434d9e97815row0_col6\" class=\"data row0 col6\" >55</td> \n",
       "        <td id=\"T_0eabb8b8_5c4e_11ec_a825_a434d9e97815row0_col7\" class=\"data row0 col7\" >95</td> \n",
       "        <td id=\"T_0eabb8b8_5c4e_11ec_a825_a434d9e97815row0_col8\" class=\"data row0 col8\" >436</td> \n",
       "    </tr>    <tr> \n",
       "        <th id=\"T_0eabb8b8_5c4e_11ec_a825_a434d9e97815level0_row1\" class=\"row_heading level0 row1\" >5</th> \n",
       "        <td id=\"T_0eabb8b8_5c4e_11ec_a825_a434d9e97815row1_col0\" class=\"data row1 col0\" >Abraxas</td> \n",
       "        <td id=\"T_0eabb8b8_5c4e_11ec_a825_a434d9e97815row1_col1\" class=\"data row1 col1\" >bad</td> \n",
       "        <td id=\"T_0eabb8b8_5c4e_11ec_a825_a434d9e97815row1_col2\" class=\"data row1 col2\" >88</td> \n",
       "        <td id=\"T_0eabb8b8_5c4e_11ec_a825_a434d9e97815row1_col3\" class=\"data row1 col3\" >100</td> \n",
       "        <td id=\"T_0eabb8b8_5c4e_11ec_a825_a434d9e97815row1_col4\" class=\"data row1 col4\" >83</td> \n",
       "        <td id=\"T_0eabb8b8_5c4e_11ec_a825_a434d9e97815row1_col5\" class=\"data row1 col5\" >99</td> \n",
       "        <td id=\"T_0eabb8b8_5c4e_11ec_a825_a434d9e97815row1_col6\" class=\"data row1 col6\" >100</td> \n",
       "        <td id=\"T_0eabb8b8_5c4e_11ec_a825_a434d9e97815row1_col7\" class=\"data row1 col7\" >56</td> \n",
       "        <td id=\"T_0eabb8b8_5c4e_11ec_a825_a434d9e97815row1_col8\" class=\"data row1 col8\" >526</td> \n",
       "    </tr>    <tr> \n",
       "        <th id=\"T_0eabb8b8_5c4e_11ec_a825_a434d9e97815level0_row2\" class=\"row_heading level0 row2\" >11</th> \n",
       "        <td id=\"T_0eabb8b8_5c4e_11ec_a825_a434d9e97815row2_col0\" class=\"data row2 col0\" >Air-Walker</td> \n",
       "        <td id=\"T_0eabb8b8_5c4e_11ec_a825_a434d9e97815row2_col1\" class=\"data row2 col1\" >bad</td> \n",
       "        <td id=\"T_0eabb8b8_5c4e_11ec_a825_a434d9e97815row2_col2\" class=\"data row2 col2\" >50</td> \n",
       "        <td id=\"T_0eabb8b8_5c4e_11ec_a825_a434d9e97815row2_col3\" class=\"data row2 col3\" >85</td> \n",
       "        <td id=\"T_0eabb8b8_5c4e_11ec_a825_a434d9e97815row2_col4\" class=\"data row2 col4\" >100</td> \n",
       "        <td id=\"T_0eabb8b8_5c4e_11ec_a825_a434d9e97815row2_col5\" class=\"data row2 col5\" >85</td> \n",
       "        <td id=\"T_0eabb8b8_5c4e_11ec_a825_a434d9e97815row2_col6\" class=\"data row2 col6\" >100</td> \n",
       "        <td id=\"T_0eabb8b8_5c4e_11ec_a825_a434d9e97815row2_col7\" class=\"data row2 col7\" >40</td> \n",
       "        <td id=\"T_0eabb8b8_5c4e_11ec_a825_a434d9e97815row2_col8\" class=\"data row2 col8\" >460</td> \n",
       "    </tr>    <tr> \n",
       "        <th id=\"T_0eabb8b8_5c4e_11ec_a825_a434d9e97815level0_row3\" class=\"row_heading level0 row3\" >16</th> \n",
       "        <td id=\"T_0eabb8b8_5c4e_11ec_a825_a434d9e97815row3_col0\" class=\"data row3 col0\" >Amazo</td> \n",
       "        <td id=\"T_0eabb8b8_5c4e_11ec_a825_a434d9e97815row3_col1\" class=\"data row3 col1\" >bad</td> \n",
       "        <td id=\"T_0eabb8b8_5c4e_11ec_a825_a434d9e97815row3_col2\" class=\"data row3 col2\" >75</td> \n",
       "        <td id=\"T_0eabb8b8_5c4e_11ec_a825_a434d9e97815row3_col3\" class=\"data row3 col3\" >100</td> \n",
       "        <td id=\"T_0eabb8b8_5c4e_11ec_a825_a434d9e97815row3_col4\" class=\"data row3 col4\" >100</td> \n",
       "        <td id=\"T_0eabb8b8_5c4e_11ec_a825_a434d9e97815row3_col5\" class=\"data row3 col5\" >100</td> \n",
       "        <td id=\"T_0eabb8b8_5c4e_11ec_a825_a434d9e97815row3_col6\" class=\"data row3 col6\" >100</td> \n",
       "        <td id=\"T_0eabb8b8_5c4e_11ec_a825_a434d9e97815row3_col7\" class=\"data row3 col7\" >100</td> \n",
       "        <td id=\"T_0eabb8b8_5c4e_11ec_a825_a434d9e97815row3_col8\" class=\"data row3 col8\" >575</td> \n",
       "    </tr>    <tr> \n",
       "        <th id=\"T_0eabb8b8_5c4e_11ec_a825_a434d9e97815level0_row4\" class=\"row_heading level0 row4\" >17</th> \n",
       "        <td id=\"T_0eabb8b8_5c4e_11ec_a825_a434d9e97815row4_col0\" class=\"data row4 col0\" >Ammo</td> \n",
       "        <td id=\"T_0eabb8b8_5c4e_11ec_a825_a434d9e97815row4_col1\" class=\"data row4 col1\" >bad</td> \n",
       "        <td id=\"T_0eabb8b8_5c4e_11ec_a825_a434d9e97815row4_col2\" class=\"data row4 col2\" >1</td> \n",
       "        <td id=\"T_0eabb8b8_5c4e_11ec_a825_a434d9e97815row4_col3\" class=\"data row4 col3\" >1</td> \n",
       "        <td id=\"T_0eabb8b8_5c4e_11ec_a825_a434d9e97815row4_col4\" class=\"data row4 col4\" >1</td> \n",
       "        <td id=\"T_0eabb8b8_5c4e_11ec_a825_a434d9e97815row4_col5\" class=\"data row4 col5\" >1</td> \n",
       "        <td id=\"T_0eabb8b8_5c4e_11ec_a825_a434d9e97815row4_col6\" class=\"data row4 col6\" >0</td> \n",
       "        <td id=\"T_0eabb8b8_5c4e_11ec_a825_a434d9e97815row4_col7\" class=\"data row4 col7\" >1</td> \n",
       "        <td id=\"T_0eabb8b8_5c4e_11ec_a825_a434d9e97815row4_col8\" class=\"data row4 col8\" >5</td> \n",
       "    </tr></tbody> \n",
       "</table> "
      ],
      "text/plain": [
       "<pandas.io.formats.style.Styler at 0x1c9c428ceb8>"
      ]
     },
     "execution_count": 23,
     "metadata": {},
     "output_type": "execute_result"
    }
   ],
   "source": [
    "villains = data[data['Alignment'] == 'bad']\n",
    "villains.head().style"
   ]
  },
  {
   "cell_type": "markdown",
   "metadata": {},
   "source": [
    "Let's find the top 5 fastest villains."
   ]
  },
  {
   "cell_type": "code",
   "execution_count": 25,
   "metadata": {},
   "outputs": [
    {
     "data": {
      "text/html": [
       "<div>\n",
       "<style scoped>\n",
       "    .dataframe tbody tr th:only-of-type {\n",
       "        vertical-align: middle;\n",
       "    }\n",
       "\n",
       "    .dataframe tbody tr th {\n",
       "        vertical-align: top;\n",
       "    }\n",
       "\n",
       "    .dataframe thead th {\n",
       "        text-align: right;\n",
       "    }\n",
       "</style>\n",
       "<table border=\"1\" class=\"dataframe\">\n",
       "  <thead>\n",
       "    <tr style=\"text-align: right;\">\n",
       "      <th></th>\n",
       "      <th>Name</th>\n",
       "      <th>Alignment</th>\n",
       "      <th>Intelligence</th>\n",
       "      <th>Strength</th>\n",
       "      <th>Speed</th>\n",
       "      <th>Durability</th>\n",
       "      <th>Power</th>\n",
       "      <th>Combat</th>\n",
       "      <th>Total</th>\n",
       "    </tr>\n",
       "  </thead>\n",
       "  <tbody>\n",
       "    <tr>\n",
       "      <th>11</th>\n",
       "      <td>Air-Walker</td>\n",
       "      <td>bad</td>\n",
       "      <td>50</td>\n",
       "      <td>85</td>\n",
       "      <td>100</td>\n",
       "      <td>85</td>\n",
       "      <td>100</td>\n",
       "      <td>40</td>\n",
       "      <td>460</td>\n",
       "    </tr>\n",
       "    <tr>\n",
       "      <th>16</th>\n",
       "      <td>Amazo</td>\n",
       "      <td>bad</td>\n",
       "      <td>75</td>\n",
       "      <td>100</td>\n",
       "      <td>100</td>\n",
       "      <td>100</td>\n",
       "      <td>100</td>\n",
       "      <td>100</td>\n",
       "      <td>575</td>\n",
       "    </tr>\n",
       "    <tr>\n",
       "      <th>535</th>\n",
       "      <td>Superboy-Prime</td>\n",
       "      <td>bad</td>\n",
       "      <td>94</td>\n",
       "      <td>100</td>\n",
       "      <td>100</td>\n",
       "      <td>100</td>\n",
       "      <td>100</td>\n",
       "      <td>85</td>\n",
       "      <td>579</td>\n",
       "    </tr>\n",
       "    <tr>\n",
       "      <th>610</th>\n",
       "      <td>Zoom</td>\n",
       "      <td>bad</td>\n",
       "      <td>50</td>\n",
       "      <td>10</td>\n",
       "      <td>100</td>\n",
       "      <td>28</td>\n",
       "      <td>72</td>\n",
       "      <td>28</td>\n",
       "      <td>288</td>\n",
       "    </tr>\n",
       "    <tr>\n",
       "      <th>242</th>\n",
       "      <td>General Zod</td>\n",
       "      <td>bad</td>\n",
       "      <td>94</td>\n",
       "      <td>100</td>\n",
       "      <td>96</td>\n",
       "      <td>100</td>\n",
       "      <td>94</td>\n",
       "      <td>95</td>\n",
       "      <td>579</td>\n",
       "    </tr>\n",
       "  </tbody>\n",
       "</table>\n",
       "</div>"
      ],
      "text/plain": [
       "               Name Alignment  Intelligence  Strength  Speed  Durability  \\\n",
       "11       Air-Walker       bad            50        85    100          85   \n",
       "16            Amazo       bad            75       100    100         100   \n",
       "535  Superboy-Prime       bad            94       100    100         100   \n",
       "610            Zoom       bad            50        10    100          28   \n",
       "242     General Zod       bad            94       100     96         100   \n",
       "\n",
       "     Power  Combat  Total  \n",
       "11     100      40    460  \n",
       "16     100     100    575  \n",
       "535    100      85    579  \n",
       "610     72      28    288  \n",
       "242     94      95    579  "
      ]
     },
     "execution_count": 25,
     "metadata": {},
     "output_type": "execute_result"
    }
   ],
   "source": [
    "fastest_villains = villains.nlargest(5, 'Speed')\n",
    "fastest_villains"
   ]
  },
  {
   "cell_type": "markdown",
   "metadata": {},
   "source": [
    "Let's use the same `nlargest` method to find the top 5 smartest villains."
   ]
  },
  {
   "cell_type": "code",
   "execution_count": 26,
   "metadata": {},
   "outputs": [
    {
     "data": {
      "text/html": [
       "<div>\n",
       "<style scoped>\n",
       "    .dataframe tbody tr th:only-of-type {\n",
       "        vertical-align: middle;\n",
       "    }\n",
       "\n",
       "    .dataframe tbody tr th {\n",
       "        vertical-align: top;\n",
       "    }\n",
       "\n",
       "    .dataframe thead th {\n",
       "        text-align: right;\n",
       "    }\n",
       "</style>\n",
       "<table border=\"1\" class=\"dataframe\">\n",
       "  <thead>\n",
       "    <tr style=\"text-align: right;\">\n",
       "      <th></th>\n",
       "      <th>Name</th>\n",
       "      <th>Alignment</th>\n",
       "      <th>Intelligence</th>\n",
       "      <th>Strength</th>\n",
       "      <th>Speed</th>\n",
       "      <th>Durability</th>\n",
       "      <th>Power</th>\n",
       "      <th>Combat</th>\n",
       "      <th>Total</th>\n",
       "    </tr>\n",
       "  </thead>\n",
       "  <tbody>\n",
       "    <tr>\n",
       "      <th>386</th>\n",
       "      <td>Mister Mxyzptlk</td>\n",
       "      <td>bad</td>\n",
       "      <td>113</td>\n",
       "      <td>10</td>\n",
       "      <td>12</td>\n",
       "      <td>14</td>\n",
       "      <td>100</td>\n",
       "      <td>28</td>\n",
       "      <td>277</td>\n",
       "    </tr>\n",
       "    <tr>\n",
       "      <th>29</th>\n",
       "      <td>Apocalypse</td>\n",
       "      <td>bad</td>\n",
       "      <td>100</td>\n",
       "      <td>100</td>\n",
       "      <td>33</td>\n",
       "      <td>100</td>\n",
       "      <td>100</td>\n",
       "      <td>60</td>\n",
       "      <td>493</td>\n",
       "    </tr>\n",
       "    <tr>\n",
       "      <th>122</th>\n",
       "      <td>Brainiac</td>\n",
       "      <td>bad</td>\n",
       "      <td>100</td>\n",
       "      <td>28</td>\n",
       "      <td>63</td>\n",
       "      <td>90</td>\n",
       "      <td>60</td>\n",
       "      <td>75</td>\n",
       "      <td>416</td>\n",
       "    </tr>\n",
       "    <tr>\n",
       "      <th>194</th>\n",
       "      <td>Doctor Doom</td>\n",
       "      <td>bad</td>\n",
       "      <td>100</td>\n",
       "      <td>32</td>\n",
       "      <td>20</td>\n",
       "      <td>100</td>\n",
       "      <td>93</td>\n",
       "      <td>84</td>\n",
       "      <td>429</td>\n",
       "    </tr>\n",
       "    <tr>\n",
       "      <th>315</th>\n",
       "      <td>Joker</td>\n",
       "      <td>bad</td>\n",
       "      <td>100</td>\n",
       "      <td>10</td>\n",
       "      <td>12</td>\n",
       "      <td>56</td>\n",
       "      <td>22</td>\n",
       "      <td>90</td>\n",
       "      <td>290</td>\n",
       "    </tr>\n",
       "  </tbody>\n",
       "</table>\n",
       "</div>"
      ],
      "text/plain": [
       "                Name Alignment  Intelligence  Strength  Speed  Durability  \\\n",
       "386  Mister Mxyzptlk       bad           113        10     12          14   \n",
       "29        Apocalypse       bad           100       100     33         100   \n",
       "122         Brainiac       bad           100        28     63          90   \n",
       "194      Doctor Doom       bad           100        32     20         100   \n",
       "315            Joker       bad           100        10     12          56   \n",
       "\n",
       "     Power  Combat  Total  \n",
       "386    100      28    277  \n",
       "29     100      60    493  \n",
       "122     60      75    416  \n",
       "194     93      84    429  \n",
       "315     22      90    290  "
      ]
     },
     "execution_count": 26,
     "metadata": {},
     "output_type": "execute_result"
    }
   ],
   "source": [
    "smartest_villains = villains.nlargest(5, 'Intelligence')\n",
    "smartest_villains"
   ]
  },
  {
   "cell_type": "markdown",
   "metadata": {},
   "source": [
    "Let's find the 5 most dangerous villains overall, those with the highest `Total` stats."
   ]
  },
  {
   "cell_type": "code",
   "execution_count": 27,
   "metadata": {},
   "outputs": [
    {
     "data": {
      "text/html": [
       "<div>\n",
       "<style scoped>\n",
       "    .dataframe tbody tr th:only-of-type {\n",
       "        vertical-align: middle;\n",
       "    }\n",
       "\n",
       "    .dataframe tbody tr th {\n",
       "        vertical-align: top;\n",
       "    }\n",
       "\n",
       "    .dataframe thead th {\n",
       "        text-align: right;\n",
       "    }\n",
       "</style>\n",
       "<table border=\"1\" class=\"dataframe\">\n",
       "  <thead>\n",
       "    <tr style=\"text-align: right;\">\n",
       "      <th></th>\n",
       "      <th>Name</th>\n",
       "      <th>Alignment</th>\n",
       "      <th>Intelligence</th>\n",
       "      <th>Strength</th>\n",
       "      <th>Speed</th>\n",
       "      <th>Durability</th>\n",
       "      <th>Power</th>\n",
       "      <th>Combat</th>\n",
       "      <th>Total</th>\n",
       "    </tr>\n",
       "  </thead>\n",
       "  <tbody>\n",
       "    <tr>\n",
       "      <th>242</th>\n",
       "      <td>General Zod</td>\n",
       "      <td>bad</td>\n",
       "      <td>94</td>\n",
       "      <td>100</td>\n",
       "      <td>96</td>\n",
       "      <td>100</td>\n",
       "      <td>94</td>\n",
       "      <td>95</td>\n",
       "      <td>579</td>\n",
       "    </tr>\n",
       "    <tr>\n",
       "      <th>535</th>\n",
       "      <td>Superboy-Prime</td>\n",
       "      <td>bad</td>\n",
       "      <td>94</td>\n",
       "      <td>100</td>\n",
       "      <td>100</td>\n",
       "      <td>100</td>\n",
       "      <td>100</td>\n",
       "      <td>85</td>\n",
       "      <td>579</td>\n",
       "    </tr>\n",
       "    <tr>\n",
       "      <th>16</th>\n",
       "      <td>Amazo</td>\n",
       "      <td>bad</td>\n",
       "      <td>75</td>\n",
       "      <td>100</td>\n",
       "      <td>100</td>\n",
       "      <td>100</td>\n",
       "      <td>100</td>\n",
       "      <td>100</td>\n",
       "      <td>575</td>\n",
       "    </tr>\n",
       "    <tr>\n",
       "      <th>203</th>\n",
       "      <td>Dormammu</td>\n",
       "      <td>bad</td>\n",
       "      <td>88</td>\n",
       "      <td>95</td>\n",
       "      <td>83</td>\n",
       "      <td>100</td>\n",
       "      <td>100</td>\n",
       "      <td>80</td>\n",
       "      <td>546</td>\n",
       "    </tr>\n",
       "    <tr>\n",
       "      <th>201</th>\n",
       "      <td>Doomsday</td>\n",
       "      <td>bad</td>\n",
       "      <td>88</td>\n",
       "      <td>80</td>\n",
       "      <td>67</td>\n",
       "      <td>120</td>\n",
       "      <td>100</td>\n",
       "      <td>90</td>\n",
       "      <td>545</td>\n",
       "    </tr>\n",
       "  </tbody>\n",
       "</table>\n",
       "</div>"
      ],
      "text/plain": [
       "               Name Alignment  Intelligence  Strength  Speed  Durability  \\\n",
       "242     General Zod       bad            94       100     96         100   \n",
       "535  Superboy-Prime       bad            94       100    100         100   \n",
       "16            Amazo       bad            75       100    100         100   \n",
       "203        Dormammu       bad            88        95     83         100   \n",
       "201        Doomsday       bad            88        80     67         120   \n",
       "\n",
       "     Power  Combat  Total  \n",
       "242     94      95    579  \n",
       "535    100      85    579  \n",
       "16     100     100    575  \n",
       "203    100      80    546  \n",
       "201    100      90    545  "
      ]
     },
     "execution_count": 27,
     "metadata": {},
     "output_type": "execute_result"
    }
   ],
   "source": [
    "most_powerful_villains = villains.nlargest(5, 'Total')\n",
    "most_powerful_villains"
   ]
  },
  {
   "cell_type": "markdown",
   "metadata": {},
   "source": [
    "### Histograms\n",
    "\n",
    "Let's practice visualizing this data again by drawing some histograms. \n",
    "\n",
    "We'll start with a plot of the heroes' speed."
   ]
  },
  {
   "cell_type": "code",
   "execution_count": 38,
   "metadata": {},
   "outputs": [
    {
     "data": {
      "text/plain": [
       "Text(0.5,1,'Heroes Distribution of Speed')"
      ]
     },
     "execution_count": 38,
     "metadata": {},
     "output_type": "execute_result"
    },
    {
     "data": {
      "image/png": "[encoded data removed]",
      "text/plain": [
       "<Figure size 432x288 with 1 Axes>"
      ]
     },
     "metadata": {
      "needs_background": "light"
     },
     "output_type": "display_data"
    }
   ],
   "source": [
    "heroes_speed = heroes['Speed']\n",
    "heroes_speed.plot.hist()\n",
    "plt.xlabel('speed')\n",
    "plt.title('Heroes Distribution of Speed')"
   ]
  },
  {
   "cell_type": "markdown",
   "metadata": {},
   "source": [
    "Let's try a histogram of the `Combat` power of the villains."
   ]
  },
  {
   "cell_type": "code",
   "execution_count": 37,
   "metadata": {},
   "outputs": [
    {
     "data": {
      "text/plain": [
       "Text(0.5,1,'Villains Distribution of Combat')"
      ]
     },
     "execution_count": 37,
     "metadata": {},
     "output_type": "execute_result"
    },
    {
     "data": {
      "image/png": "[encoded data removed]",
      "text/plain": [
       "<Figure size 432x288 with 1 Axes>"
      ]
     },
     "metadata": {
      "needs_background": "light"
     },
     "output_type": "display_data"
    }
   ],
   "source": [
    "villains_combat = villains['Combat']\n",
    "villains_combat.plot.hist()\n",
    "plt.xlabel('combat')\n",
    "plt.title('Villains Distribution of Combat')"
   ]
  },
  {
   "cell_type": "markdown",
   "metadata": {},
   "source": [
    "## Additional Queries\n",
    "\n",
    "There are ways of putting two histograms together on the same plot to compare them. \n",
    "\n",
    "Let's compare the speed and combat of the heroes and villains.\n",
    "\n",
    "First, we'll need to put the `Speed` data of the heroes and villains together in one DataFrame."
   ]
  },
  {
   "cell_type": "code",
   "execution_count": 44,
   "metadata": {},
   "outputs": [],
   "source": [
    "villains_speed = villains['Speed']\n",
    "\n",
    "speed = pd.DataFrame({'heroes_speed': heroes_speed, 'villains_speed': villains_speed})"
   ]
  },
  {
   "cell_type": "markdown",
   "metadata": {},
   "source": [
    "Then, we can simply plot the DataFrame using the `plot.hist()` method, and it will show both. \n",
    "We'll set the `alpha` value to less than 1 to make the histograms slightly transparent, to make the overlap more visible."
   ]
  },
  {
   "cell_type": "code",
   "execution_count": 46,
   "metadata": {},
   "outputs": [
    {
     "data": {
      "text/plain": [
       "Text(0.5,0,'speed')"
      ]
     },
     "execution_count": 46,
     "metadata": {},
     "output_type": "execute_result"
    },
    {
     "data": {
      "image/png": "[encoded data removed]",
      "text/plain": [
       "<Figure size 432x288 with 1 Axes>"
      ]
     },
     "metadata": {
      "needs_background": "light"
     },
     "output_type": "display_data"
    }
   ],
   "source": [
    "speed.plot.hist(alpha=0.7)\n",
    "plt.title('Heroes and Villains Speed')\n",
    "plt.xlabel('speed')"
   ]
  },
  {
   "cell_type": "markdown",
   "metadata": {},
   "source": [
    "The histogram makes understanding the data distribution far easier. \n",
    "\n",
    "As we saw earlier, there are 432 heroes and 165 villains, so the overrepresentation of low-speed heroes explains why the histogram \n",
    "looks the way it does.\n",
    "\n",
    "Let's try the same approach with the `Combat` statistic, to see if there is a similar distribution."
   ]
  },
  {
   "cell_type": "code",
   "execution_count": 48,
   "metadata": {},
   "outputs": [
    {
     "data": {
      "text/plain": [
       "Text(0.5,0,'combat')"
      ]
     },
     "execution_count": 48,
     "metadata": {},
     "output_type": "execute_result"
    },
    {
     "data": {
      "image/png": "[encoded data removed]",
      "text/plain": [
       "<Figure size 432x288 with 1 Axes>"
      ]
     },
     "metadata": {
      "needs_background": "light"
     },
     "output_type": "display_data"
    }
   ],
   "source": [
    "heroes_combat = heroes['Combat']\n",
    "combat = pd.DataFrame({'heroes_combat': heroes_combat, 'villains_combat': villains_combat})\n",
    "combat.plot.hist(alpha=0.7)\n",
    "plt.title('Heroes and Villains Combat')\n",
    "plt.xlabel('combat')"
   ]
  },
  {
   "cell_type": "markdown",
   "metadata": {},
   "source": [
    "As before, there are far more heroes than villains, and it seems like most of them have low `Combat` scores.\n",
    "\n",
    "Let's do the same for `Durability`, to see if heroes or villains are more durable."
   ]
  },
  {
   "cell_type": "code",
   "execution_count": 52,
   "metadata": {},
   "outputs": [
    {
     "data": {
      "text/plain": [
       "Text(0.5,0,'durability')"
      ]
     },
     "execution_count": 52,
     "metadata": {},
     "output_type": "execute_result"
    },
    {
     "data": {
      "image/png": "[encoded data removed]",
      "text/plain": [
       "<Figure size 432x288 with 1 Axes>"
      ]
     },
     "metadata": {
      "needs_background": "light"
     },
     "output_type": "display_data"
    }
   ],
   "source": [
    "heroes_durability = heroes['Durability']\n",
    "villains_durability = villains['Durability']\n",
    "durability = pd.DataFrame({'heroes_durability': heroes_durability, 'villains_durability': villains_durability})\n",
    "durability.plot.hist(alpha=0.7)\n",
    "plt.title('Heroes and Villains Durability')\n",
    "plt.xlabel('durability')"
   ]
  },
  {
   "cell_type": "markdown",
   "metadata": {},
   "source": [
    "These results are unsurprising, and follow the trend of the earlier histograms. Large numbers of heroes seem to have low durability scores, which causes the data to look like this."
   ]
  }
 ],
 "metadata": {
  "interpreter": {
   "hash": "63fd5069d213b44bf678585dea6b12cceca9941eaf7f819626cde1f2670de90d"
  },
  "kernelspec": {
   "display_name": "Python 3.9.1 64-bit",
   "language": "python",
   "name": "python3"
  },
  "language_info": {
   "codemirror_mode": {
    "name": "ipython",
    "version": 3
   },
   "file_extension": ".py",
   "mimetype": "text/x-python",
   "name": "python",
   "nbconvert_exporter": "python",
   "pygments_lexer": "ipython3",
   "version": "3.7.0"
  },
  "orig_nbformat": 4
 },
 "nbformat": 4,
 "nbformat_minor": 2
}
